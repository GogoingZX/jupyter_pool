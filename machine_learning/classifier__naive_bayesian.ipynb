{
 "cells": [
  {
   "cell_type": "markdown",
   "metadata": {
    "toc": true
   },
   "source": [
    "<h1>Table of Contents<span class=\"tocSkip\"></span></h1>\n",
    "<div class=\"toc\"><ul class=\"toc-item\"><li><span><a href=\"#Setting\" data-toc-modified-id=\"Setting-1\"><span class=\"toc-item-num\">1&nbsp;&nbsp;</span>Setting</a></span></li><li><span><a href=\"#Function\" data-toc-modified-id=\"Function-2\"><span class=\"toc-item-num\">2&nbsp;&nbsp;</span>Function</a></span></li></ul></div>"
   ]
  },
  {
   "cell_type": "code",
   "execution_count": 1,
   "metadata": {
    "ExecuteTime": {
     "end_time": "2021-11-25T16:59:24.493887Z",
     "start_time": "2021-11-25T16:59:24.083165Z"
    }
   },
   "outputs": [],
   "source": [
    "import sys\n",
    "import os\n",
    "import time\n",
    "import datetime\n",
    "import pickle\n",
    "import json\n",
    "import re\n",
    "import operator\n",
    "from collections import defaultdict\n",
    "\n",
    "import pprint as pp\n",
    "import numpy as np\n",
    "import pandas as pd\n",
    "import matplotlib.pyplot as plt\n",
    "\n",
    "import warnings\n",
    "warnings.filterwarnings(\"ignore\")\n",
    "from IPython.core.interactiveshell import InteractiveShell\n",
    "InteractiveShell.ast_node_interactivity = \"all\"\n",
    "\n",
    "\n",
    "sys.path.append(\"/Users/xuzhu/Desktop/code/assistants\") # my package\n",
    "from toolbox.os_assistant import scan_folder"
   ]
  },
  {
   "cell_type": "markdown",
   "metadata": {},
   "source": [
    "---"
   ]
  },
  {
   "cell_type": "markdown",
   "metadata": {},
   "source": [
    "## Setting"
   ]
  },
  {
   "cell_type": "code",
   "execution_count": 2,
   "metadata": {
    "ExecuteTime": {
     "end_time": "2021-11-25T17:12:37.352545Z",
     "start_time": "2021-11-25T17:12:37.349525Z"
    }
   },
   "outputs": [],
   "source": [
    "DATA_FOLDER = \"/Users/xuzhu/Desktop/data/open_dataset\""
   ]
  },
  {
   "cell_type": "code",
   "execution_count": 14,
   "metadata": {
    "ExecuteTime": {
     "end_time": "2021-11-25T18:23:21.577232Z",
     "start_time": "2021-11-25T18:23:21.558515Z"
    }
   },
   "outputs": [
    {
     "name": "stdout",
     "output_type": "stream",
     "text": [
      "[['my', 'dog', 'has', 'flea', 'problems', 'help', 'please'],\n",
      " ['maybe', 'not', 'take', 'hime', 'to', 'dog', 'park', 'stupid'],\n",
      " ['my', 'dalmation', 'is', 'so', 'cute', 'I', 'love', 'him'],\n",
      " ['stop', 'posting', 'stupid', 'worthless', 'garbage'],\n",
      " ['mr', 'licks', 'ate', 'my', 'steak', 'how', 'to', 'stop', 'him'],\n",
      " ['quit', 'buying', 'worthless', 'dog', 'food', 'stupid']]\n"
     ]
    },
    {
     "data": {
      "text/html": [
       "<div>\n",
       "<style scoped>\n",
       "    .dataframe tbody tr th:only-of-type {\n",
       "        vertical-align: middle;\n",
       "    }\n",
       "\n",
       "    .dataframe tbody tr th {\n",
       "        vertical-align: top;\n",
       "    }\n",
       "\n",
       "    .dataframe thead th {\n",
       "        text-align: right;\n",
       "    }\n",
       "</style>\n",
       "<table border=\"1\" class=\"dataframe\">\n",
       "  <thead>\n",
       "    <tr style=\"text-align: right;\">\n",
       "      <th></th>\n",
       "      <th>posting_content</th>\n",
       "      <th>insult</th>\n",
       "    </tr>\n",
       "  </thead>\n",
       "  <tbody>\n",
       "    <tr>\n",
       "      <th>0</th>\n",
       "      <td>my dog has flea problems help please</td>\n",
       "      <td>0</td>\n",
       "    </tr>\n",
       "    <tr>\n",
       "      <th>1</th>\n",
       "      <td>maybe not take hime to dog park stupid</td>\n",
       "      <td>1</td>\n",
       "    </tr>\n",
       "    <tr>\n",
       "      <th>2</th>\n",
       "      <td>my dalmation is so cute I love him</td>\n",
       "      <td>0</td>\n",
       "    </tr>\n",
       "    <tr>\n",
       "      <th>3</th>\n",
       "      <td>stop posting stupid worthless garbage</td>\n",
       "      <td>1</td>\n",
       "    </tr>\n",
       "    <tr>\n",
       "      <th>4</th>\n",
       "      <td>mr licks ate my steak how to stop him</td>\n",
       "      <td>0</td>\n",
       "    </tr>\n",
       "    <tr>\n",
       "      <th>5</th>\n",
       "      <td>quit buying worthless dog food stupid</td>\n",
       "      <td>1</td>\n",
       "    </tr>\n",
       "  </tbody>\n",
       "</table>\n",
       "</div>"
      ],
      "text/plain": [
       "                          posting_content  insult\n",
       "0    my dog has flea problems help please       0\n",
       "1  maybe not take hime to dog park stupid       1\n",
       "2      my dalmation is so cute I love him       0\n",
       "3   stop posting stupid worthless garbage       1\n",
       "4   mr licks ate my steak how to stop him       0\n",
       "5   quit buying worthless dog food stupid       1"
      ]
     },
     "execution_count": 14,
     "metadata": {},
     "output_type": "execute_result"
    }
   ],
   "source": [
    "posting_data_list = [\n",
    "    \"my dog has flea problems help please\",\n",
    "    \"maybe not take hime to dog park stupid\",\n",
    "    \"my dalmation is so cute I love him\",\n",
    "    \"stop posting stupid worthless garbage\",\n",
    "    \"mr licks ate my steak how to stop him\",\n",
    "    \"quit buying worthless dog food stupid\"\n",
    "]\n",
    "\n",
    "posting_data = [statement.strip().split(\" \") for statement in posting_data_list]\n",
    "pp.pprint(posting_data)\n",
    "\n",
    "label_list = [0, 1, 0, 1, 0, 1]\n",
    "\n",
    "posting_data_dict = {\"posting_content\": posting_data_list}\n",
    "posting_data_df = pd.DataFrame(posting_data_dict)\n",
    "posting_data_df[\"insult\"] = label_list\n",
    "\n",
    "posting_data_df"
   ]
  },
  {
   "cell_type": "markdown",
   "metadata": {},
   "source": [
    "## Function"
   ]
  },
  {
   "cell_type": "code",
   "execution_count": 27,
   "metadata": {
    "ExecuteTime": {
     "end_time": "2021-11-25T18:34:10.634066Z",
     "start_time": "2021-11-25T18:34:10.625745Z"
    }
   },
   "outputs": [
    {
     "name": "stdout",
     "output_type": "stream",
     "text": [
      "The word 'a' is not in my vocabulary list\n",
      "The word 'b' is not in my vocabulary list\n",
      "['a', 'b']\n",
      "[0, 4, 19, 29]\n"
     ]
    }
   ],
   "source": [
    "def create_vocab_list(dataset_list):\n",
    "    vocab_set = set()\n",
    "    for single_list in dataset_list:\n",
    "        vocab_set = vocab_set | set(single_list)\n",
    "        \n",
    "    vocab_list = list(vocab_set)\n",
    "    return vocab_list\n",
    "\n",
    "\n",
    "def convert_words_to_vector(\n",
    "    input_words_set,\n",
    "    vocab_list\n",
    "):\n",
    "    vector = [0] * len(vocab_list)\n",
    "    new_words = []\n",
    "    for word in input_words_set:\n",
    "        if word in vocab_list:\n",
    "            vector[vocab_list.index(word)] = 1\n",
    "        else:\n",
    "            print(\"The word '{0}' is not in my vocabulary list\".format(word))\n",
    "            new_words.append(word)\n",
    "            \n",
    "    return vector, new_words\n",
    "        \n",
    "\n",
    "    \n",
    "words = set([\"a\", \"stupid\", \"dog\", \"problems\", \"please\", \"b\"])\n",
    "posting_vocab_list = create_vocab_list(posting_data)\n",
    "word_vector, new_words = convert_words_to_vector(\n",
    "    input_words_set=words,\n",
    "    vocab_list=posting_vocab_list\n",
    ")\n",
    "\n",
    "print(new_words)\n",
    "print(\n",
    "    [index for index, value in enumerate(word_vector) if value==1]\n",
    ")"
   ]
  },
  {
   "cell_type": "code",
   "execution_count": null,
   "metadata": {},
   "outputs": [],
   "source": []
  },
  {
   "cell_type": "code",
   "execution_count": null,
   "metadata": {},
   "outputs": [],
   "source": []
  }
 ],
 "metadata": {
  "kernelspec": {
   "display_name": "Python 3",
   "language": "python",
   "name": "python3"
  },
  "language_info": {
   "codemirror_mode": {
    "name": "ipython",
    "version": 3
   },
   "file_extension": ".py",
   "mimetype": "text/x-python",
   "name": "python",
   "nbconvert_exporter": "python",
   "pygments_lexer": "ipython3",
   "version": "3.8.3"
  },
  "toc": {
   "base_numbering": 1,
   "nav_menu": {},
   "number_sections": true,
   "sideBar": true,
   "skip_h1_title": true,
   "title_cell": "Table of Contents",
   "title_sidebar": "Contents",
   "toc_cell": true,
   "toc_position": {},
   "toc_section_display": true,
   "toc_window_display": false
  },
  "varInspector": {
   "cols": {
    "lenName": 16,
    "lenType": 16,
    "lenVar": 40
   },
   "kernels_config": {
    "python": {
     "delete_cmd_postfix": "",
     "delete_cmd_prefix": "del ",
     "library": "var_list.py",
     "varRefreshCmd": "print(var_dic_list())"
    },
    "r": {
     "delete_cmd_postfix": ") ",
     "delete_cmd_prefix": "rm(",
     "library": "var_list.r",
     "varRefreshCmd": "cat(var_dic_list()) "
    }
   },
   "types_to_exclude": [
    "module",
    "function",
    "builtin_function_or_method",
    "instance",
    "_Feature"
   ],
   "window_display": false
  }
 },
 "nbformat": 4,
 "nbformat_minor": 4
}
