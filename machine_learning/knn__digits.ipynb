{
 "cells": [
  {
   "cell_type": "markdown",
   "metadata": {
    "toc": true
   },
   "source": [
    "<h1>Table of Contents<span class=\"tocSkip\"></span></h1>\n",
    "<div class=\"toc\"><ul class=\"toc-item\"><li><span><a href=\"#Functions\" data-toc-modified-id=\"Functions-1\"><span class=\"toc-item-num\">1&nbsp;&nbsp;</span>Functions</a></span></li><li><span><a href=\"#Settings\" data-toc-modified-id=\"Settings-2\"><span class=\"toc-item-num\">2&nbsp;&nbsp;</span>Settings</a></span></li></ul></div>"
   ]
  },
  {
   "cell_type": "code",
   "execution_count": 24,
   "metadata": {
    "ExecuteTime": {
     "end_time": "2021-11-19T17:18:49.728317Z",
     "start_time": "2021-11-19T17:18:49.715372Z"
    }
   },
   "outputs": [],
   "source": [
    "import sys\n",
    "import os\n",
    "import time\n",
    "import datetime\n",
    "import pickle\n",
    "import json\n",
    "import re\n",
    "from collections import defaultdict\n",
    "\n",
    "import numpy as np\n",
    "import pandas as pd\n",
    "\n",
    "import warnings\n",
    "warnings.filterwarnings(\"ignore\")\n",
    "from IPython.core.interactiveshell import InteractiveShell\n",
    "InteractiveShell.ast_node_interactivity = \"all\""
   ]
  },
  {
   "cell_type": "markdown",
   "metadata": {},
   "source": [
    "---"
   ]
  },
  {
   "cell_type": "markdown",
   "metadata": {},
   "source": [
    "## Functions"
   ]
  },
  {
   "cell_type": "code",
   "execution_count": 93,
   "metadata": {
    "ExecuteTime": {
     "end_time": "2021-11-19T18:24:37.922664Z",
     "start_time": "2021-11-19T18:24:37.913653Z"
    }
   },
   "outputs": [],
   "source": [
    "def scan_folder(\n",
    "    folder_path,\n",
    "    show_info=True,\n",
    "    details=False\n",
    "):\n",
    "    \"\"\"\n",
    "    Here is the description\n",
    "    \"\"\"\n",
    "    # if os.path.isdir(folder_path)\n",
    "    results = {\n",
    "        \"file\": {},\n",
    "        \"folder\": {}\n",
    "    }\n",
    "    results[\"file\"], results[\"folder\"] = defaultdict(list), defaultdict(list)\n",
    "    \n",
    "    for name in os.listdir(folder_path):\n",
    "        abs_path = os.path.join(folder_path, name)\n",
    "        if os.path.isfile(abs_path): # is file\n",
    "            if name.startswith(\".\"):\n",
    "                results[\"file\"][\"hidden\"].append(name)\n",
    "            else:\n",
    "                filetype = name.split(\".\")[-1]\n",
    "                results[\"file\"][filetype].append(name)\n",
    "        else: # is folder\n",
    "            if name.startswith(\".\"):\n",
    "                results[\"folder\"][\"hidden\"].append(name)\n",
    "            else:\n",
    "                results[\"folder\"][\"normal\"].append(name)\n",
    "\n",
    "    if show_info is True:\n",
    "        msg = \"\"\"\n",
    "        \\n\\r============================== SCAN FOLDER ==============================\n",
    "        \\rFolder Path: '{folder_path}'\n",
    "        \\rSubfolders: {folder_cnt} => {folder_list}\n",
    "        \\rFiletypes: {filetype_cnt} => {filetype_list}\n",
    "        \"\"\".format(\n",
    "            folder_path=folder_path,\n",
    "            folder_cnt=len(results[\"folder\"][\"hidden\"]+results[\"folder\"][\"normal\"]),\n",
    "            folder_list=results[\"folder\"][\"hidden\"]+results[\"folder\"][\"normal\"],\n",
    "            filetype_cnt=len(list(results[\"file\"].keys())),\n",
    "            filetype_list=list(results[\"file\"].keys())\n",
    "        )\n",
    "        print(msg, end=\"\")\n",
    "        for index, filenames in results[\"file\"].items():\n",
    "            print(\"\\r-'{0}' file count: {1}\".format(index, len(filenames)))\n",
    "\n",
    "            if details is True:\n",
    "                for filename in filenames:\n",
    "                    print(\"  {0}\".format(filename))\n",
    "            else:\n",
    "                pass\n",
    "    else:\n",
    "        pass\n",
    "    \n",
    "    return results"
   ]
  },
  {
   "cell_type": "markdown",
   "metadata": {},
   "source": [
    "---"
   ]
  },
  {
   "cell_type": "markdown",
   "metadata": {},
   "source": [
    "## Settings"
   ]
  },
  {
   "cell_type": "code",
   "execution_count": 94,
   "metadata": {
    "ExecuteTime": {
     "end_time": "2021-11-19T18:24:38.632926Z",
     "start_time": "2021-11-19T18:24:38.629012Z"
    }
   },
   "outputs": [],
   "source": [
    "data_folder = \"/Users/xuzhu/Desktop/data/open_dataset\"\n",
    "\n",
    "project_folder = os.path.join(data_folder, \"digits\")\n",
    "training_folder = os.path.join(project_folder, \"training\")\n",
    "test_folder = os.path.join(project_folder, \"test\")"
   ]
  },
  {
   "cell_type": "code",
   "execution_count": 100,
   "metadata": {
    "ExecuteTime": {
     "end_time": "2021-11-19T18:26:56.219358Z",
     "start_time": "2021-11-19T18:26:56.188962Z"
    }
   },
   "outputs": [
    {
     "name": "stdout",
     "output_type": "stream",
     "text": [
      "\n",
      "        \n",
      "\r",
      "============================== SCAN FOLDER ==============================\n",
      "        \r",
      "Folder Path: '/Users/xuzhu/Desktop/data/open_dataset/digits/training'\n",
      "        \r",
      "Subfolders: 0 => []\n",
      "        \r",
      "Filetypes: 1 => ['txt']\n",
      "        \r",
      "-'txt' file count: 1934\n"
     ]
    },
    {
     "data": {
      "text/plain": [
       "dict_keys(['file', 'folder'])"
      ]
     },
     "execution_count": 100,
     "metadata": {},
     "output_type": "execute_result"
    }
   ],
   "source": [
    "scan_results = scan_folder(training_folder)\n",
    "\n",
    "scan_results.keys()"
   ]
  },
  {
   "cell_type": "code",
   "execution_count": null,
   "metadata": {},
   "outputs": [],
   "source": [
    "def convert_img_to_vector():\n",
    "    "
   ]
  }
 ],
 "metadata": {
  "kernelspec": {
   "display_name": "Python 3",
   "language": "python",
   "name": "python3"
  },
  "language_info": {
   "codemirror_mode": {
    "name": "ipython",
    "version": 3
   },
   "file_extension": ".py",
   "mimetype": "text/x-python",
   "name": "python",
   "nbconvert_exporter": "python",
   "pygments_lexer": "ipython3",
   "version": "3.8.3"
  },
  "toc": {
   "base_numbering": 1,
   "nav_menu": {},
   "number_sections": true,
   "sideBar": true,
   "skip_h1_title": true,
   "title_cell": "Table of Contents",
   "title_sidebar": "Contents",
   "toc_cell": true,
   "toc_position": {},
   "toc_section_display": true,
   "toc_window_display": false
  },
  "varInspector": {
   "cols": {
    "lenName": 16,
    "lenType": 16,
    "lenVar": 40
   },
   "kernels_config": {
    "python": {
     "delete_cmd_postfix": "",
     "delete_cmd_prefix": "del ",
     "library": "var_list.py",
     "varRefreshCmd": "print(var_dic_list())"
    },
    "r": {
     "delete_cmd_postfix": ") ",
     "delete_cmd_prefix": "rm(",
     "library": "var_list.r",
     "varRefreshCmd": "cat(var_dic_list()) "
    }
   },
   "types_to_exclude": [
    "module",
    "function",
    "builtin_function_or_method",
    "instance",
    "_Feature"
   ],
   "window_display": false
  }
 },
 "nbformat": 4,
 "nbformat_minor": 4
}
