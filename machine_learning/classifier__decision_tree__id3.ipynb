{
 "cells": [
  {
   "cell_type": "markdown",
   "metadata": {
    "toc": true
   },
   "source": [
    "<h1>Table of Contents<span class=\"tocSkip\"></span></h1>\n",
    "<div class=\"toc\"><ul class=\"toc-item\"><li><span><a href=\"#Settings\" data-toc-modified-id=\"Settings-1\"><span class=\"toc-item-num\">1&nbsp;&nbsp;</span>Settings</a></span></li><li><span><a href=\"#Function\" data-toc-modified-id=\"Function-2\"><span class=\"toc-item-num\">2&nbsp;&nbsp;</span>Function</a></span><ul class=\"toc-item\"><li><span><a href=\"#Calculate-Shannon-Entropy\" data-toc-modified-id=\"Calculate-Shannon-Entropy-2.1\"><span class=\"toc-item-num\">2.1&nbsp;&nbsp;</span>Calculate Shannon Entropy</a></span></li><li><span><a href=\"#Split-Dataset\" data-toc-modified-id=\"Split-Dataset-2.2\"><span class=\"toc-item-num\">2.2&nbsp;&nbsp;</span>Split Dataset</a></span></li><li><span><a href=\"#Choose-The-Best-Feature-To-Split\" data-toc-modified-id=\"Choose-The-Best-Feature-To-Split-2.3\"><span class=\"toc-item-num\">2.3&nbsp;&nbsp;</span>Choose The Best Feature To Split</a></span></li><li><span><a href=\"#Create-Dicision-Tree-(ID3)\" data-toc-modified-id=\"Create-Dicision-Tree-(ID3)-2.4\"><span class=\"toc-item-num\">2.4&nbsp;&nbsp;</span>Create Dicision Tree (ID3)</a></span></li><li><span><a href=\"#Visualise-Dicision-Tree\" data-toc-modified-id=\"Visualise-Dicision-Tree-2.5\"><span class=\"toc-item-num\">2.5&nbsp;&nbsp;</span>Visualise Dicision Tree</a></span></li></ul></li></ul></div>"
   ]
  },
  {
   "cell_type": "code",
   "execution_count": 1,
   "metadata": {
    "ExecuteTime": {
     "end_time": "2021-11-21T17:13:38.559395Z",
     "start_time": "2021-11-21T17:13:38.124538Z"
    }
   },
   "outputs": [],
   "source": [
    "import sys\n",
    "import os\n",
    "import time\n",
    "import datetime\n",
    "import pickle\n",
    "import json\n",
    "import re\n",
    "import operator\n",
    "from collections import defaultdict\n",
    "\n",
    "import numpy as np\n",
    "import pandas as pd\n",
    "\n",
    "import warnings\n",
    "warnings.filterwarnings(\"ignore\")\n",
    "from IPython.core.interactiveshell import InteractiveShell\n",
    "InteractiveShell.ast_node_interactivity = \"all\""
   ]
  },
  {
   "cell_type": "code",
   "execution_count": 2,
   "metadata": {
    "ExecuteTime": {
     "end_time": "2021-11-21T17:13:39.134923Z",
     "start_time": "2021-11-21T17:13:39.128620Z"
    }
   },
   "outputs": [],
   "source": [
    "sys.path.append(\"/Users/xuzhu/Desktop/code/assistants\") # my package\n",
    "\n",
    "from toolbox.os_assistant import scan_folder"
   ]
  },
  {
   "cell_type": "markdown",
   "metadata": {},
   "source": [
    "---"
   ]
  },
  {
   "cell_type": "markdown",
   "metadata": {},
   "source": [
    "## Settings"
   ]
  },
  {
   "cell_type": "code",
   "execution_count": 3,
   "metadata": {
    "ExecuteTime": {
     "end_time": "2021-11-21T17:13:40.491627Z",
     "start_time": "2021-11-21T17:13:40.488526Z"
    }
   },
   "outputs": [],
   "source": [
    "DATA_FOLDER = \"/Users/xuzhu/Desktop/data/open_dataset\""
   ]
  },
  {
   "cell_type": "markdown",
   "metadata": {},
   "source": [
    "## Function"
   ]
  },
  {
   "cell_type": "markdown",
   "metadata": {},
   "source": [
    "Given a discrete random variable $X$, with possible outcomes $x_{1},..., x_{n}$, which occur with probability $P(x_{n}),..., P(x_{n})$, the **<font color=red>entropy</font>** of $X$ is formally defined as:<br>\n",
    "$$H = - \\sum^{n}_{i=1} p(x_{i}) log_{2} p(x_{i})$$"
   ]
  },
  {
   "cell_type": "code",
   "execution_count": 4,
   "metadata": {
    "ExecuteTime": {
     "end_time": "2021-11-21T17:13:41.748842Z",
     "start_time": "2021-11-21T17:13:41.744661Z"
    }
   },
   "outputs": [],
   "source": [
    "feature_name_list = [\"is_big\", \"is_white\"]\n",
    "dataset = [\n",
    "    [1, 1, \"Y\"],\n",
    "    [1, 0, \"N\"],\n",
    "    [1, 1, \"Y\"],\n",
    "    [0, 1, \"N\"],\n",
    "    [0, 1, \"N\"]\n",
    "]"
   ]
  },
  {
   "cell_type": "markdown",
   "metadata": {},
   "source": [
    "### Calculate Shannon Entropy"
   ]
  },
  {
   "cell_type": "code",
   "execution_count": 5,
   "metadata": {
    "ExecuteTime": {
     "end_time": "2021-11-21T17:13:42.498752Z",
     "start_time": "2021-11-21T17:13:42.485049Z"
    }
   },
   "outputs": [
    {
     "data": {
      "text/plain": [
       "0.9709505944546686"
      ]
     },
     "execution_count": 5,
     "metadata": {},
     "output_type": "execute_result"
    }
   ],
   "source": [
    "# Calculate Shannon Entropy\n",
    "from math import log\n",
    "\n",
    "def calculate_shannon_entropy(dataset):\n",
    "    \"\"\"\n",
    "    dataset = [\n",
    "        [1, 1, \"Y\"],\n",
    "        [1, 0, \"N\"],\n",
    "        [1, 1, \"Y\"],\n",
    "        [0, 1, \"N\"],\n",
    "        [0, 1, \"N\"]\n",
    "    ]\n",
    "    \"\"\"\n",
    "    entity_num = len(dataset) # data_set -- list_like\n",
    "    label_stats = {}\n",
    "    for entity_vector in dataset:\n",
    "        current_label = entity_vector[-1] # entity_vector -- list_like [d1, d2, ..., dn], assume db is the class\n",
    "        if current_label not in label_stats.keys():\n",
    "            label_stats[current_label] = 0\n",
    "        else:\n",
    "            pass\n",
    "        label_stats[current_label] += 1\n",
    "\n",
    "    shannon_entropy = 0\n",
    "    for key in label_stats.keys(): # slightly slower than 'for key in label_stats:'\n",
    "        label_prob = label_stats[key] / entity_num\n",
    "        shannon_entropy = shannon_entropy - label_prob * log(label_prob, 2)\n",
    "    \n",
    "    return shannon_entropy\n",
    "\n",
    "\n",
    "calculate_shannon_entropy(dataset)"
   ]
  },
  {
   "cell_type": "markdown",
   "metadata": {},
   "source": [
    "### Split Dataset"
   ]
  },
  {
   "cell_type": "code",
   "execution_count": 6,
   "metadata": {
    "ExecuteTime": {
     "end_time": "2021-11-21T17:13:43.762546Z",
     "start_time": "2021-11-21T17:13:43.752974Z"
    }
   },
   "outputs": [
    {
     "data": {
      "text/plain": [
       "[[1, 1], [1, 1]]"
      ]
     },
     "execution_count": 6,
     "metadata": {},
     "output_type": "execute_result"
    },
    {
     "data": {
      "text/plain": [
       "[[1, 0], [0, 1], [0, 1]]"
      ]
     },
     "execution_count": 6,
     "metadata": {},
     "output_type": "execute_result"
    }
   ],
   "source": [
    "def split_dataset(\n",
    "    dataset,\n",
    "    axis,\n",
    "    value\n",
    "):\n",
    "    new_dataset=[]\n",
    "    for entity_vector in dataset:\n",
    "        if entity_vector[axis] == value: # entity_vector: [d1, d2, d3]\n",
    "            reduced_entity_vector = entity_vector[:axis]\n",
    "            reduced_entity_vector.extend(entity_vector[axis+1:]) # reduced_entity_vector: [d1, d3]\n",
    "                # drop entity_vector[axis] and keep the original list unchanged\n",
    "            new_dataset.append(reduced_entity_vector)\n",
    "        else:\n",
    "            pass\n",
    "            \n",
    "    return new_dataset\n",
    "\n",
    "\n",
    "split_dataset(dataset, 2, \"Y\")\n",
    "split_dataset(dataset, 2, \"N\")"
   ]
  },
  {
   "cell_type": "markdown",
   "metadata": {},
   "source": [
    "### Choose The Best Feature To Split"
   ]
  },
  {
   "cell_type": "code",
   "execution_count": 7,
   "metadata": {
    "ExecuteTime": {
     "end_time": "2021-11-21T17:13:44.609930Z",
     "start_time": "2021-11-21T17:13:44.600809Z"
    }
   },
   "outputs": [
    {
     "data": {
      "text/plain": [
       "0"
      ]
     },
     "execution_count": 7,
     "metadata": {},
     "output_type": "execute_result"
    }
   ],
   "source": [
    "def choose_feature_to_split(dataset):\n",
    "    feature_cnt = len(dataset[0]) - 1\n",
    "    base_entropy = calculate_shannon_entropy(dataset)\n",
    "    best_info_gain = 0\n",
    "    best_feature_axis = -1 # create a default best feature\n",
    "                           # -1 means no best feature and choose the last one as the best feature\n",
    "    \n",
    "    for i in range(feature_cnt):\n",
    "        feature_list = [entity_temp[i] for entity_temp in dataset]\n",
    "        uniq_feature_set = set(feature_list)\n",
    "        \n",
    "        new_entropy = 0\n",
    "        for feature_value in uniq_feature_set:\n",
    "            sub_dataset = split_dataset(\n",
    "                dataset=dataset,\n",
    "                axis=i,\n",
    "                value=feature_value\n",
    "            )\n",
    "            prob = len(sub_dataset) / len(dataset)\n",
    "            new_entropy += prob * calculate_shannon_entropy(sub_dataset) # weighted\n",
    "            \n",
    "        info_gain = base_entropy - new_entropy # old - new\n",
    "        if info_gain > best_info_gain:\n",
    "            best_info_gain = info_gain\n",
    "            best_feature_axis = i\n",
    "        else:\n",
    "            pass\n",
    "    \n",
    "    return best_feature_axis   \n",
    "\n",
    "\n",
    "choose_feature_to_split(dataset)"
   ]
  },
  {
   "cell_type": "markdown",
   "metadata": {},
   "source": [
    "### Create Dicision Tree (ID3)"
   ]
  },
  {
   "cell_type": "code",
   "execution_count": 8,
   "metadata": {
    "ExecuteTime": {
     "end_time": "2021-11-21T17:13:45.396058Z",
     "start_time": "2021-11-21T17:13:45.392231Z"
    }
   },
   "outputs": [],
   "source": [
    "def majority_vote(class_list):\n",
    "    class_stats = {}\n",
    "    for class_value in class_list:\n",
    "        if class_value not in class_stats.keys():\n",
    "            class_stats[class_value] = 0\n",
    "        else:\n",
    "            pass\n",
    "        class_stats[class_value] += 1\n",
    "    \n",
    "    sorted_class_stats = sorted(\n",
    "        class_stats.items(),\n",
    "        key=operator.itemgetter(1),\n",
    "        reverse=True\n",
    "    )\n",
    "    \n",
    "    voted_class_value = sorted_class_stats[0][0]\n",
    "    return voted_class_value"
   ]
  },
  {
   "cell_type": "code",
   "execution_count": 10,
   "metadata": {
    "ExecuteTime": {
     "end_time": "2021-11-21T17:13:56.994256Z",
     "start_time": "2021-11-21T17:13:56.984130Z"
    }
   },
   "outputs": [
    {
     "data": {
      "text/plain": [
       "{'is_big': {0: 'N', 1: {'is_white': {0: 'N', 1: 'Y'}}}}"
      ]
     },
     "execution_count": 10,
     "metadata": {},
     "output_type": "execute_result"
    }
   ],
   "source": [
    "def create_decision_tree__id3(\n",
    "    dataset,\n",
    "    feature_name_list\n",
    "):\n",
    "    class_list = [entity_temp[-1] for entity_temp in dataset]\n",
    "    \n",
    "    if class_list.count(class_list[0]) == len(class_list): # leaf node -- stop condition 1\n",
    "        return class_list[0]\n",
    "    if len(dataset[0]) == 1: # traversed all features -- stop condition 2\n",
    "        return majority_vote(class_list)\n",
    "    \n",
    "    feature_axis = choose_feature_to_split(dataset)\n",
    "    feature_name = feature_name_list[feature_axis]\n",
    "    tree = {\n",
    "        feature_name: {}\n",
    "    }\n",
    "    del feature_name_list[feature_axis]\n",
    "    \n",
    "    feature_value_list = [entity_temp[feature_axis] for entity_temp in dataset]\n",
    "    uniq_feature_set = set(feature_value_list)\n",
    "    for feature_value in uniq_feature_set:\n",
    "        sub_feature_name_list = feature_name_list[:]\n",
    "        tree[feature_name][feature_value] = create_decision_tree__id3(\n",
    "            dataset = split_dataset(\n",
    "                dataset,\n",
    "                axis=feature_axis,\n",
    "                value=feature_value\n",
    "            ),\n",
    "            feature_name_list = sub_feature_name_list\n",
    "        )\n",
    "    \n",
    "    return tree\n",
    "\n",
    "\n",
    "create_decision_tree__id3(dataset, feature_name_list)"
   ]
  },
  {
   "cell_type": "markdown",
   "metadata": {},
   "source": [
    "### Visualise Dicision Tree"
   ]
  },
  {
   "cell_type": "code",
   "execution_count": 1,
   "metadata": {
    "ExecuteTime": {
     "end_time": "2021-11-22T16:18:21.283994Z",
     "start_time": "2021-11-22T16:18:20.567277Z"
    }
   },
   "outputs": [
    {
     "data": {
      "image/png": "[encoded data removed]",
      "text/plain": [
       "<Figure size 432x288 with 1 Axes>"
      ]
     },
     "metadata": {},
     "output_type": "display_data"
    }
   ],
   "source": [
    "import matplotlib.pyplot as plt\n",
    "\n",
    "decision_node_args = {\n",
    "    \"boxstyle\": \"sawtooth\",\n",
    "    \"fc\": \"0.8\"\n",
    "}\n",
    "leaf_node_args = {\n",
    "    \"boxstyle\": \"round\",\n",
    "    \"fc\": \"0.8\"\n",
    "}\n",
    "# https://matplotlib.org/stable/tutorials/text/annotations.html\n",
    "arrow_args = {\"arrowstyle\": \"<-\"}\n",
    "\n",
    "\n",
    "def plot_node(\n",
    "    node_text,\n",
    "    node_type,\n",
    "    center_point,\n",
    "    parent_point\n",
    "):\n",
    "    create_plot.ax1.annotate(\n",
    "        node_text,\n",
    "        xy=parent_point,\n",
    "        xycoords=\"axes fraction\",\n",
    "        xytext=center_point,\n",
    "        textcoords=\"axes fraction\",\n",
    "        va=\"center\",\n",
    "        ha=\"center\",\n",
    "        bbox=node_type,\n",
    "        arrowprops=arrow_args\n",
    "    )\n",
    "    # https://matplotlib.org/stable/api/_as_gen/matplotlib.pyplot.annotate.html\n",
    "    \n",
    "\n",
    "def create_plot():\n",
    "    fig = plt.figure(num=1, facecolor=\"white\") # background color = white\n",
    "    fig.clf() # clear\n",
    "    create_plot.ax1 = plt.subplot(111, frameon=False)\n",
    "    plot_node(\n",
    "        node_text=\"Dicision Node\",\n",
    "        node_type=decision_node_args,\n",
    "        center_point=(0.5, 0.1),\n",
    "        parent_point=(0.1, 0.5)\n",
    "    )\n",
    "    plot_node(\n",
    "        node_text=\"Leaf Node\",\n",
    "        node_type=leaf_node_args,\n",
    "        center_point=(0.8, 0.1),\n",
    "        parent_point=(0.3, 0.8)\n",
    "    )\n",
    "    plt.show()\n",
    "\n",
    "    \n",
    "create_plot()"
   ]
  },
  {
   "cell_type": "code",
   "execution_count": 27,
   "metadata": {
    "ExecuteTime": {
     "end_time": "2021-11-22T18:14:26.679191Z",
     "start_time": "2021-11-22T18:14:26.670249Z"
    }
   },
   "outputs": [
    {
     "name": "stdout",
     "output_type": "stream",
     "text": [
      "3\n",
      "2\n"
     ]
    }
   ],
   "source": [
    "\"\"\"\n",
    "{\n",
    "    \"is_big\": {\n",
    "        0: \"N\",\n",
    "        1: {\n",
    "            \"is_white\": {\n",
    "                0: \"N\",\n",
    "                1: \"Y\"\n",
    "            }\n",
    "        }\n",
    "    }\n",
    "}\n",
    "\"\"\"\n",
    "tree_dict = {'is_big': {0: 'N', 1: {'is_white': {0: 'N', 1: 'Y'}}}}\n",
    "\n",
    "def get_leaf_qty(tree_dict):\n",
    "    leaf_qty = 0\n",
    "    first_key = list(tree_dict.keys())[0]\n",
    "    sub_tree_dict = tree_dict[first_key]\n",
    "    for key in sub_tree_dict.keys():\n",
    "        if type(sub_tree_dict[key]).__name__ == \"dict\": # if type(sub_tree_dict[key]) is dict\n",
    "            leaf_qty = leaf_qty + get_leaf_qty(sub_tree_dict[key])\n",
    "        else:\n",
    "            leaf_qty += 1\n",
    "            \n",
    "    return leaf_qty\n",
    "\n",
    "print(get_leaf_qty(tree_dict))\n",
    "\n",
    "\n",
    "def get_tree_depth(tree_dict):\n",
    "    max_depth = 0\n",
    "    first_key = list(tree_dict.keys())[0]\n",
    "    sub_tree_dict = tree_dict[first_key]\n",
    "    for key in sub_tree_dict.keys():\n",
    "        if type(sub_tree_dict[key]) is dict:\n",
    "            this_depth = 1 + get_tree_depth(sub_tree_dict[key])\n",
    "        else:\n",
    "            this_depth = 1\n",
    "            \n",
    "        if this_depth > max_depth:\n",
    "            max_depth = this_depth\n",
    "    \n",
    "    return max_depth\n",
    "\n",
    "print(get_tree_depth(tree_dict))"
   ]
  },
  {
   "cell_type": "code",
   "execution_count": null,
   "metadata": {},
   "outputs": [],
   "source": []
  }
 ],
 "metadata": {
  "kernelspec": {
   "display_name": "Python 3",
   "language": "python",
   "name": "python3"
  },
  "language_info": {
   "codemirror_mode": {
    "name": "ipython",
    "version": 3
   },
   "file_extension": ".py",
   "mimetype": "text/x-python",
   "name": "python",
   "nbconvert_exporter": "python",
   "pygments_lexer": "ipython3",
   "version": "3.8.3"
  },
  "toc": {
   "base_numbering": 1,
   "nav_menu": {},
   "number_sections": true,
   "sideBar": true,
   "skip_h1_title": true,
   "title_cell": "Table of Contents",
   "title_sidebar": "Contents",
   "toc_cell": true,
   "toc_position": {},
   "toc_section_display": true,
   "toc_window_display": true
  },
  "varInspector": {
   "cols": {
    "lenName": 16,
    "lenType": 16,
    "lenVar": 40
   },
   "kernels_config": {
    "python": {
     "delete_cmd_postfix": "",
     "delete_cmd_prefix": "del ",
     "library": "var_list.py",
     "varRefreshCmd": "print(var_dic_list())"
    },
    "r": {
     "delete_cmd_postfix": ") ",
     "delete_cmd_prefix": "rm(",
     "library": "var_list.r",
     "varRefreshCmd": "cat(var_dic_list()) "
    }
   },
   "position": {
    "height": "479.844px",
    "left": "921px",
    "right": "20px",
    "top": "113px",
    "width": "350px"
   },
   "types_to_exclude": [
    "module",
    "function",
    "builtin_function_or_method",
    "instance",
    "_Feature"
   ],
   "window_display": false
  }
 },
 "nbformat": 4,
 "nbformat_minor": 4
}
