{
 "cells": [
  {
   "cell_type": "markdown",
   "metadata": {
    "toc": true
   },
   "source": [
    "<h1>Table of Contents<span class=\"tocSkip\"></span></h1>\n",
    "<div class=\"toc\"><ul class=\"toc-item\"><li><span><a href=\"#Settings\" data-toc-modified-id=\"Settings-1\"><span class=\"toc-item-num\">1&nbsp;&nbsp;</span>Settings</a></span></li><li><span><a href=\"#Function\" data-toc-modified-id=\"Function-2\"><span class=\"toc-item-num\">2&nbsp;&nbsp;</span>Function</a></span><ul class=\"toc-item\"><li><span><a href=\"#Calculate-Shannon-Entropy\" data-toc-modified-id=\"Calculate-Shannon-Entropy-2.1\"><span class=\"toc-item-num\">2.1&nbsp;&nbsp;</span>Calculate Shannon Entropy</a></span></li><li><span><a href=\"#Split-Dataset\" data-toc-modified-id=\"Split-Dataset-2.2\"><span class=\"toc-item-num\">2.2&nbsp;&nbsp;</span>Split Dataset</a></span></li><li><span><a href=\"#Choose-The-Best-Feature-To-Split\" data-toc-modified-id=\"Choose-The-Best-Feature-To-Split-2.3\"><span class=\"toc-item-num\">2.3&nbsp;&nbsp;</span>Choose The Best Feature To Split</a></span></li><li><span><a href=\"#Create-Decision-Tree-(ID3)\" data-toc-modified-id=\"Create-Decision-Tree-(ID3)-2.4\"><span class=\"toc-item-num\">2.4&nbsp;&nbsp;</span>Create Decision Tree (ID3)</a></span></li><li><span><a href=\"#Visualise-Dicision-Tree\" data-toc-modified-id=\"Visualise-Dicision-Tree-2.5\"><span class=\"toc-item-num\">2.5&nbsp;&nbsp;</span>Visualise Dicision Tree</a></span></li></ul></li><li><span><a href=\"#Test-&amp;-Save\" data-toc-modified-id=\"Test-&amp;-Save-3\"><span class=\"toc-item-num\">3&nbsp;&nbsp;</span>Test &amp; Save</a></span></li><li><span><a href=\"#Practice\" data-toc-modified-id=\"Practice-4\"><span class=\"toc-item-num\">4&nbsp;&nbsp;</span>Practice</a></span></li></ul></div>"
   ]
  },
  {
   "cell_type": "code",
   "execution_count": 19,
   "metadata": {
    "ExecuteTime": {
     "end_time": "2021-11-23T17:13:30.388918Z",
     "start_time": "2021-11-23T17:13:30.384044Z"
    }
   },
   "outputs": [],
   "source": [
    "import sys\n",
    "import os\n",
    "import time\n",
    "import datetime\n",
    "import pickle\n",
    "import json\n",
    "import re\n",
    "import operator\n",
    "from collections import defaultdict\n",
    "\n",
    "import numpy as np\n",
    "import pandas as pd\n",
    "\n",
    "import warnings\n",
    "warnings.filterwarnings(\"ignore\")\n",
    "from IPython.core.interactiveshell import InteractiveShell\n",
    "InteractiveShell.ast_node_interactivity = \"all\""
   ]
  },
  {
   "cell_type": "code",
   "execution_count": 20,
   "metadata": {
    "ExecuteTime": {
     "end_time": "2021-11-23T17:13:30.558307Z",
     "start_time": "2021-11-23T17:13:30.555524Z"
    }
   },
   "outputs": [],
   "source": [
    "import matplotlib.pyplot as plt\n",
    "# %matplotlib inline\n",
    "\n",
    "from math import log"
   ]
  },
  {
   "cell_type": "code",
   "execution_count": 21,
   "metadata": {
    "ExecuteTime": {
     "end_time": "2021-11-23T17:13:30.837601Z",
     "start_time": "2021-11-23T17:13:30.834652Z"
    }
   },
   "outputs": [],
   "source": [
    "sys.path.append(\"/Users/xuzhu/Desktop/code/assistants\") # my package\n",
    "\n",
    "from toolbox.os_assistant import scan_folder"
   ]
  },
  {
   "cell_type": "markdown",
   "metadata": {},
   "source": [
    "---"
   ]
  },
  {
   "cell_type": "markdown",
   "metadata": {},
   "source": [
    "## Settings"
   ]
  },
  {
   "cell_type": "code",
   "execution_count": 22,
   "metadata": {
    "ExecuteTime": {
     "end_time": "2021-11-23T17:13:31.964940Z",
     "start_time": "2021-11-23T17:13:31.962024Z"
    }
   },
   "outputs": [],
   "source": [
    "DATA_FOLDER = \"/Users/xuzhu/Desktop/data/open_dataset\""
   ]
  },
  {
   "cell_type": "markdown",
   "metadata": {},
   "source": [
    "## Function"
   ]
  },
  {
   "cell_type": "markdown",
   "metadata": {},
   "source": [
    "Given a discrete random variable $X$, with possible outcomes $x_{1},..., x_{n}$, which occur with probability $P(x_{n}),..., P(x_{n})$, the **<font color=red>entropy</font>** of $X$ is formally defined as:<br>\n",
    "$$H = - \\sum^{n}_{i=1} p(x_{i}) log_{2} p(x_{i})$$"
   ]
  },
  {
   "cell_type": "code",
   "execution_count": 23,
   "metadata": {
    "ExecuteTime": {
     "end_time": "2021-11-23T17:13:33.665600Z",
     "start_time": "2021-11-23T17:13:33.661474Z"
    }
   },
   "outputs": [],
   "source": [
    "feature_name_list = [\"is_big\", \"is_white\"]\n",
    "dataset = [\n",
    "    [1, 1, \"Y\"],\n",
    "    [1, 0, \"N\"],\n",
    "    [1, 1, \"Y\"],\n",
    "    [0, 1, \"N\"],\n",
    "    [0, 1, \"N\"]\n",
    "]"
   ]
  },
  {
   "cell_type": "markdown",
   "metadata": {},
   "source": [
    "### Calculate Shannon Entropy"
   ]
  },
  {
   "cell_type": "code",
   "execution_count": 24,
   "metadata": {
    "ExecuteTime": {
     "end_time": "2021-11-23T17:13:35.787470Z",
     "start_time": "2021-11-23T17:13:35.778941Z"
    }
   },
   "outputs": [
    {
     "data": {
      "text/plain": [
       "0.9709505944546686"
      ]
     },
     "execution_count": 24,
     "metadata": {},
     "output_type": "execute_result"
    }
   ],
   "source": [
    "# Calculate Shannon Entropy\n",
    "\n",
    "def calculate_shannon_entropy(dataset):\n",
    "    \"\"\"\n",
    "    dataset = [\n",
    "        [1, 1, \"Y\"],\n",
    "        [1, 0, \"N\"],\n",
    "        [1, 1, \"Y\"],\n",
    "        [0, 1, \"N\"],\n",
    "        [0, 1, \"N\"]\n",
    "    ]\n",
    "    \"\"\"\n",
    "    entity_num = len(dataset) # data_set -- list_like\n",
    "    label_stats = {}\n",
    "    for entity_vector in dataset:\n",
    "        current_class = entity_vector[-1] # entity_vector -- list_like [d1, d2, ..., dn], assume db is the class\n",
    "        if current_class not in label_stats.keys():\n",
    "            label_stats[current_class] = 0\n",
    "        else:\n",
    "            pass\n",
    "        label_stats[current_class] += 1\n",
    "\n",
    "    shannon_entropy = 0\n",
    "    for key in label_stats.keys(): # slightly slower than 'for key in label_stats:'\n",
    "        label_prob = label_stats[key] / entity_num\n",
    "        shannon_entropy = shannon_entropy - label_prob * log(label_prob, 2)\n",
    "    \n",
    "    return shannon_entropy\n",
    "\n",
    "\n",
    "calculate_shannon_entropy(dataset)"
   ]
  },
  {
   "cell_type": "markdown",
   "metadata": {},
   "source": [
    "### Split Dataset"
   ]
  },
  {
   "cell_type": "code",
   "execution_count": 25,
   "metadata": {
    "ExecuteTime": {
     "end_time": "2021-11-23T17:13:39.399905Z",
     "start_time": "2021-11-23T17:13:39.390664Z"
    }
   },
   "outputs": [
    {
     "data": {
      "text/plain": [
       "[[1, 1], [1, 1]]"
      ]
     },
     "execution_count": 25,
     "metadata": {},
     "output_type": "execute_result"
    },
    {
     "data": {
      "text/plain": [
       "[[1, 0], [0, 1], [0, 1]]"
      ]
     },
     "execution_count": 25,
     "metadata": {},
     "output_type": "execute_result"
    }
   ],
   "source": [
    "def split_dataset(\n",
    "    dataset,\n",
    "    axis,\n",
    "    value\n",
    "):\n",
    "    new_dataset=[]\n",
    "    for entity_vector in dataset:\n",
    "        if entity_vector[axis] == value: # entity_vector: [d1, d2, d3]\n",
    "            reduced_entity_vector = entity_vector[:axis]\n",
    "            reduced_entity_vector.extend(entity_vector[axis+1:]) # reduced_entity_vector: [d1, d3]\n",
    "                # drop entity_vector[axis] and keep the original list unchanged\n",
    "            new_dataset.append(reduced_entity_vector)\n",
    "        else:\n",
    "            pass\n",
    "            \n",
    "    return new_dataset\n",
    "\n",
    "\n",
    "split_dataset(dataset, 2, \"Y\")\n",
    "split_dataset(dataset, 2, \"N\")"
   ]
  },
  {
   "cell_type": "markdown",
   "metadata": {},
   "source": [
    "### Choose The Best Feature To Split"
   ]
  },
  {
   "cell_type": "code",
   "execution_count": 26,
   "metadata": {
    "ExecuteTime": {
     "end_time": "2021-11-23T17:13:44.844060Z",
     "start_time": "2021-11-23T17:13:44.833917Z"
    }
   },
   "outputs": [
    {
     "data": {
      "text/plain": [
       "0"
      ]
     },
     "execution_count": 26,
     "metadata": {},
     "output_type": "execute_result"
    }
   ],
   "source": [
    "def choose_feature_to_split(dataset):\n",
    "    feature_cnt = len(dataset[0]) - 1\n",
    "    base_entropy = calculate_shannon_entropy(dataset)\n",
    "    best_info_gain = 0\n",
    "    best_feature_axis = -1 # create a default best feature\n",
    "                           # -1 means no best feature and choose the last one as the best feature\n",
    "    \n",
    "    for i in range(feature_cnt):\n",
    "        feature_list = [entity_temp[i] for entity_temp in dataset]\n",
    "        uniq_feature_set = set(feature_list)\n",
    "        \n",
    "        new_entropy = 0\n",
    "        for feature_value in uniq_feature_set:\n",
    "            sub_dataset = split_dataset(\n",
    "                dataset=dataset,\n",
    "                axis=i,\n",
    "                value=feature_value\n",
    "            )\n",
    "            prob = len(sub_dataset) / len(dataset)\n",
    "            new_entropy += prob * calculate_shannon_entropy(sub_dataset) # weighted\n",
    "            \n",
    "        info_gain = base_entropy - new_entropy # old - new\n",
    "        if info_gain > best_info_gain:\n",
    "            best_info_gain = info_gain\n",
    "            best_feature_axis = i\n",
    "        else:\n",
    "            pass\n",
    "    \n",
    "    return best_feature_axis   \n",
    "\n",
    "\n",
    "choose_feature_to_split(dataset)"
   ]
  },
  {
   "cell_type": "markdown",
   "metadata": {},
   "source": [
    "### Create Decision Tree (ID3)"
   ]
  },
  {
   "cell_type": "code",
   "execution_count": 27,
   "metadata": {
    "ExecuteTime": {
     "end_time": "2021-11-23T17:13:46.422919Z",
     "start_time": "2021-11-23T17:13:46.417543Z"
    }
   },
   "outputs": [],
   "source": [
    "def majority_vote(class_list):\n",
    "    class_stats = {}\n",
    "    for class_value in class_list:\n",
    "        if class_value not in class_stats.keys():\n",
    "            class_stats[class_value] = 0\n",
    "        else:\n",
    "            pass\n",
    "        class_stats[class_value] += 1\n",
    "    \n",
    "    sorted_class_stats = sorted(\n",
    "        class_stats.items(),\n",
    "        key=operator.itemgetter(1),\n",
    "        reverse=True\n",
    "    )\n",
    "    \n",
    "    voted_class_value = sorted_class_stats[0][0]\n",
    "    return voted_class_value"
   ]
  },
  {
   "cell_type": "code",
   "execution_count": 28,
   "metadata": {
    "ExecuteTime": {
     "end_time": "2021-11-23T17:14:01.424194Z",
     "start_time": "2021-11-23T17:14:01.413573Z"
    }
   },
   "outputs": [
    {
     "data": {
      "text/plain": [
       "{'is_big': {0: 'N', 1: {'is_white': {0: 'N', 1: 'Y'}}}}"
      ]
     },
     "execution_count": 28,
     "metadata": {},
     "output_type": "execute_result"
    }
   ],
   "source": [
    "def create_decision_tree__id3(\n",
    "    dataset,\n",
    "    feature_name_list\n",
    "):\n",
    "    class_list = [entity_temp[-1] for entity_temp in dataset]\n",
    "    \n",
    "    if class_list.count(class_list[0]) == len(class_list): # leaf node -- stop condition 1\n",
    "        return class_list[0]\n",
    "    if len(dataset[0]) == 1: # traversed all features -- stop condition 2\n",
    "        return majority_vote(class_list)\n",
    "    \n",
    "    feature_axis = choose_feature_to_split(dataset)\n",
    "    feature_name = feature_name_list[feature_axis]\n",
    "    tree = {\n",
    "        feature_name: {}\n",
    "    }\n",
    "    del feature_name_list[feature_axis]\n",
    "    \n",
    "    feature_value_list = [entity_temp[feature_axis] for entity_temp in dataset]\n",
    "    uniq_feature_set = set(feature_value_list)\n",
    "    for feature_value in uniq_feature_set:\n",
    "        sub_feature_name_list = feature_name_list[:]\n",
    "        tree[feature_name][feature_value] = create_decision_tree__id3(\n",
    "            dataset = split_dataset(\n",
    "                dataset,\n",
    "                axis=feature_axis,\n",
    "                value=feature_value\n",
    "            ),\n",
    "            feature_name_list = sub_feature_name_list\n",
    "        )\n",
    "    \n",
    "    return tree\n",
    "\n",
    "\n",
    "decision_tree__id3 = create_decision_tree__id3(dataset, feature_name_list)\n",
    "decision_tree__id3"
   ]
  },
  {
   "cell_type": "markdown",
   "metadata": {},
   "source": [
    "### Visualise Dicision Tree"
   ]
  },
  {
   "cell_type": "code",
   "execution_count": 29,
   "metadata": {
    "ExecuteTime": {
     "end_time": "2021-11-23T17:14:21.104240Z",
     "start_time": "2021-11-23T17:14:20.926936Z"
    }
   },
   "outputs": [
    {
     "data": {
      "image/png": "[encoded data removed]",
      "text/plain": [
       "<Figure size 432x288 with 1 Axes>"
      ]
     },
     "metadata": {},
     "output_type": "display_data"
    }
   ],
   "source": [
    "decision_node_args = {\n",
    "    \"boxstyle\": \"square\", # \"sawtooth\",\n",
    "    \"fc\": \"0.8\"\n",
    "}\n",
    "leaf_node_args = {\n",
    "    \"boxstyle\": \"circle\", # \"round\",\n",
    "    \"fc\": \"0.8\"\n",
    "}\n",
    "# https://matplotlib.org/stable/tutorials/text/annotations.html\n",
    "arrow_args = {\"arrowstyle\": \"<-\"} # reversed arrow !!!\n",
    "\n",
    "\n",
    "def plot_node(\n",
    "    node_text,\n",
    "    node_type,\n",
    "    point_position,\n",
    "    text_position\n",
    "):\n",
    "    create_plot.ax1.annotate(\n",
    "        node_text,\n",
    "        xy=point_position,          # The point (x, y) to annotate\n",
    "        xycoords=\"axes fraction\",\n",
    "        xytext=text_position,       # The position (x, y) to place the text at\n",
    "        textcoords=\"axes fraction\",\n",
    "        va=\"center\",\n",
    "        ha=\"center\",\n",
    "        bbox=node_type,\n",
    "        arrowprops=arrow_args \n",
    "            # The properties used to draw a FancyArrowPatch arrow between the positions xy and xytext\n",
    "            # https://matplotlib.org/stable/api/_as_gen/matplotlib.pyplot.annotate.html\n",
    "    )\n",
    "    \n",
    "\n",
    "def create_plot():\n",
    "    fig = plt.figure(num=1, facecolor=\"white\") # background color = white\n",
    "    fig.clf() # clear\n",
    "    create_plot.ax1 = plt.subplot(111, frameon=False)\n",
    "    plot_node(\n",
    "        node_text=\"Dicision Node\",\n",
    "        node_type=decision_node_args,\n",
    "        point_position=(0.1, 0.5),\n",
    "        text_position=(0.5, 0.1)\n",
    "    )\n",
    "    plot_node(\n",
    "        node_text=\"Leaf Node\",\n",
    "        node_type=leaf_node_args,\n",
    "        point_position=(0.3, 0.8),\n",
    "        text_position=(0.8, 0.1)\n",
    "    )\n",
    "    plt.show()\n",
    "\n",
    "    \n",
    "create_plot()"
   ]
  },
  {
   "cell_type": "code",
   "execution_count": 30,
   "metadata": {
    "ExecuteTime": {
     "end_time": "2021-11-23T17:14:43.499050Z",
     "start_time": "2021-11-23T17:14:43.486337Z"
    }
   },
   "outputs": [
    {
     "data": {
      "text/plain": [
       "'\\n{\\n    \"is_big\": {\\n        0: \"N\",\\n        1: {\\n            \"is_white\": {\\n                0: \"N\",\\n                1: \"Y\"\\n            }\\n        }\\n    }\\n}\\n'"
      ]
     },
     "execution_count": 30,
     "metadata": {},
     "output_type": "execute_result"
    },
    {
     "name": "stdout",
     "output_type": "stream",
     "text": [
      "3\n",
      "2\n"
     ]
    }
   ],
   "source": [
    "\"\"\"\n",
    "{\n",
    "    \"is_big\": {\n",
    "        0: \"N\",\n",
    "        1: {\n",
    "            \"is_white\": {\n",
    "                0: \"N\",\n",
    "                1: \"Y\"\n",
    "            }\n",
    "        }\n",
    "    }\n",
    "}\n",
    "\"\"\"\n",
    "# tree_dict = {'is_big': {0: 'N', 1: {'is_white': {0: 'N', 1: 'Y'}}}}\n",
    "\n",
    "def get_leaf_qty(tree_dict):\n",
    "    leaf_qty = 0\n",
    "    first_key = list(tree_dict.keys())[0]\n",
    "    sub_tree_dict = tree_dict[first_key]\n",
    "    for key in sub_tree_dict.keys():\n",
    "        if type(sub_tree_dict[key]).__name__ == \"dict\": # if type(sub_tree_dict[key]) is dict\n",
    "            leaf_qty = leaf_qty + get_leaf_qty(sub_tree_dict[key])\n",
    "        else:\n",
    "            leaf_qty += 1\n",
    "            \n",
    "    return leaf_qty\n",
    "\n",
    "print(get_leaf_qty(decision_tree__id3))\n",
    "\n",
    "\n",
    "def get_tree_depth(tree_dict):\n",
    "    max_depth = 0\n",
    "    first_key = list(tree_dict.keys())[0]\n",
    "    sub_tree_dict = tree_dict[first_key]\n",
    "    for key in sub_tree_dict.keys():\n",
    "        if type(sub_tree_dict[key]) is dict:\n",
    "            this_depth = 1 + get_tree_depth(sub_tree_dict[key])\n",
    "        else:\n",
    "            this_depth = 1\n",
    "            \n",
    "        if this_depth > max_depth:\n",
    "            max_depth = this_depth\n",
    "    \n",
    "    return max_depth\n",
    "\n",
    "print(get_tree_depth(decision_tree__id3))"
   ]
  },
  {
   "cell_type": "code",
   "execution_count": 31,
   "metadata": {
    "ExecuteTime": {
     "end_time": "2021-11-23T17:14:52.292150Z",
     "start_time": "2021-11-23T17:14:52.115605Z"
    }
   },
   "outputs": [
    {
     "data": {
      "image/png": "[encoded data removed]",
      "text/plain": [
       "<Figure size 432x288 with 1 Axes>"
      ]
     },
     "metadata": {},
     "output_type": "display_data"
    }
   ],
   "source": [
    "decision_node_args = {\n",
    "    \"boxstyle\": \"sawtooth\", # \"sawtooth\",\n",
    "    \"fc\": \"0.8\"\n",
    "}\n",
    "leaf_node_args = {\n",
    "    \"boxstyle\": \"round4\", # \"round\",\n",
    "    \"fc\": \"0.8\"\n",
    "}\n",
    "arrow_args = {\"arrowstyle\": \"<-\"} # reversed arrow !!!\n",
    "\n",
    "\n",
    "def plot_node(\n",
    "    node_text,\n",
    "    node_type,\n",
    "    point_position,\n",
    "    text_position\n",
    "):\n",
    "    create_plot.ax1.annotate(\n",
    "        node_text,\n",
    "        xy=point_position,          # The point (x, y) to annotate\n",
    "        xycoords=\"axes fraction\",\n",
    "        xytext=text_position,       # The position (x, y) to place the text at\n",
    "        textcoords=\"axes fraction\",\n",
    "        va=\"center\",\n",
    "        ha=\"center\",\n",
    "        bbox=node_type,\n",
    "        arrowprops=arrow_args \n",
    "            # The properties used to draw a FancyArrowPatch arrow between the positions xy and xytext\n",
    "            # https://matplotlib.org/stable/api/_as_gen/matplotlib.pyplot.annotate.html\n",
    "    )\n",
    "    \n",
    "    \n",
    "def plot_mid_text(\n",
    "    parent_point,\n",
    "    child_point,\n",
    "    text\n",
    "):\n",
    "    x_mid = (parent_point[0] - child_point[0])/2 + child_point[0]\n",
    "    y_mid = (parent_point[1] - child_point[1])/2 + child_point[1]\n",
    "    create_plot.ax1.text(x_mid, y_mid, text)\n",
    "\n",
    "    \n",
    "def plot_tree(\n",
    "    tree,\n",
    "    parent_point,\n",
    "    node_text\n",
    "):\n",
    "    leaf_qty = get_leaf_qty(tree)\n",
    "    tree_depth = get_tree_depth(tree)\n",
    "    first_key = list(tree.keys())[0]\n",
    "    child_point = (plot_tree.x_off + (1 + leaf_qty) / 2 / plot_tree.total_width, plot_tree.y_off)\n",
    "    plot_mid_text(\n",
    "        parent_point=parent_point,\n",
    "        child_point=child_point,\n",
    "        text=node_text\n",
    "    )\n",
    "    plot_node(\n",
    "        node_text=first_key,\n",
    "        node_type=decision_node_args,\n",
    "        point_position=parent_point,\n",
    "        text_position=child_point\n",
    "    )\n",
    "    \n",
    "    sub_tree = tree[first_key]\n",
    "    plot_tree.y_off = plot_tree.y_off - 1 / plot_tree.total_depth\n",
    "    for key in sub_tree.keys():\n",
    "        if type(sub_tree[key]) is dict:\n",
    "            plot_tree(\n",
    "                tree=sub_tree[key],\n",
    "                parent_point=child_point,\n",
    "                node_text=str(key)\n",
    "            )\n",
    "        else:\n",
    "            plot_tree.x_off = plot_tree.x_off + 1 / plot_tree.total_width\n",
    "            plot_node(\n",
    "                node_text=sub_tree[key],\n",
    "                node_type=leaf_node_args,\n",
    "                point_position=child_point,\n",
    "                text_position=(plot_tree.x_off, plot_tree.y_off)\n",
    "            )\n",
    "            plot_mid_text(\n",
    "                parent_point=child_point,\n",
    "                child_point=(plot_tree.x_off, plot_tree.y_off),\n",
    "                text=str(key)\n",
    "            )\n",
    "            \n",
    "    plot_tree.y_off = plot_tree.y_off + 1 / plot_tree.total_depth\n",
    "\n",
    "    \n",
    "def create_plot(tree):\n",
    "    fig = plt.figure(num=1, facecolor=\"white\") # background color = white\n",
    "    fig.clf() # clear\n",
    "    # axprops = dict(xticks=[], yticks=[])\n",
    "    # create_plot.ax1 = plt.subplot(111, frameon=False, **axprops)\n",
    "    create_plot.ax1 = plt.subplot(111, frameon=False, xticks=[], yticks=[])\n",
    "    \n",
    "    plot_tree.total_width = float(get_leaf_qty(tree))\n",
    "    plot_tree.total_depth = float(get_tree_depth(tree))\n",
    "    plot_tree.x_off = -0.5 / plot_tree.total_width # default 0-1\n",
    "    plot_tree.y_off = 1 # default 0-1\n",
    "    plot_tree(\n",
    "        tree=tree, \n",
    "        parent_point=(0.5, 1.0),\n",
    "        node_text=\"\"\n",
    "    )\n",
    "    \n",
    "    plt.show()\n",
    "\n",
    "    \n",
    "create_plot(decision_tree__id3)"
   ]
  },
  {
   "cell_type": "markdown",
   "metadata": {},
   "source": [
    "## Test & Save"
   ]
  },
  {
   "cell_type": "code",
   "execution_count": 32,
   "metadata": {
    "ExecuteTime": {
     "end_time": "2021-11-23T17:15:02.908808Z",
     "start_time": "2021-11-23T17:15:02.893710Z"
    }
   },
   "outputs": [
    {
     "data": {
      "text/plain": [
       "'N'"
      ]
     },
     "execution_count": 32,
     "metadata": {},
     "output_type": "execute_result"
    },
    {
     "data": {
      "text/plain": [
       "'Y'"
      ]
     },
     "execution_count": 32,
     "metadata": {},
     "output_type": "execute_result"
    }
   ],
   "source": [
    "def tree_test(\n",
    "    input_tree,\n",
    "    feature_names,\n",
    "    test_vector\n",
    "):\n",
    "    first_key = list(input_tree.keys())[0]\n",
    "    sub_tree = input_tree[first_key]\n",
    "    feature_index = feature_names.index(first_key)\n",
    "    for key in sub_tree.keys():\n",
    "        if key == test_vector[feature_index]:\n",
    "            if type(sub_tree[key]) is dict:\n",
    "                output_label = tree_test(\n",
    "                    input_tree=sub_tree[key],\n",
    "                    feature_names=feature_names,\n",
    "                    test_vector=test_vector\n",
    "                )\n",
    "            else:\n",
    "                output_label = sub_tree[key]\n",
    "        else:\n",
    "            pass\n",
    "    \n",
    "    return output_label\n",
    "\n",
    "\n",
    "dataset = [\n",
    "    [1, 1, \"Y\"],\n",
    "    [1, 0, \"N\"],\n",
    "    [1, 1, \"Y\"],\n",
    "    [0, 1, \"N\"],\n",
    "    [0, 1, \"N\"]\n",
    "]\n",
    "feature_name_list = [\"is_big\", \"is_white\"]\n",
    "tree_dict = {'is_big': {0: 'N', 1: {'is_white': {0: 'N', 1: 'Y'}}}}\n",
    "test_vector_1 = [1, 0]\n",
    "test_vector_2 = [1, 1]\n",
    "\n",
    "tree_test(\n",
    "    input_tree=decision_tree__id3,\n",
    "    feature_names=feature_name_list,\n",
    "    test_vector=test_vector_1\n",
    ")\n",
    "\n",
    "tree_test(\n",
    "    input_tree=decision_tree__id3,\n",
    "    feature_names=feature_name_list,\n",
    "    test_vector=test_vector_2\n",
    ")"
   ]
  },
  {
   "cell_type": "code",
   "execution_count": 35,
   "metadata": {
    "ExecuteTime": {
     "end_time": "2021-11-23T17:20:06.564483Z",
     "start_time": "2021-11-23T17:20:06.556340Z"
    }
   },
   "outputs": [
    {
     "data": {
      "text/plain": [
       "{'is_big': {0: 'N', 1: {'is_white': {0: 'N', 1: 'Y'}}}}"
      ]
     },
     "execution_count": 35,
     "metadata": {},
     "output_type": "execute_result"
    }
   ],
   "source": [
    "def store_tree(\n",
    "    input_tree,\n",
    "    filepath\n",
    "):\n",
    "    with open(filepath, \"wb\") as f_write:\n",
    "        pickle.dump(input_tree, f_write)\n",
    "        \n",
    "#     f_write = open(filepath, \"w\")\n",
    "#     pickle.dump(input_tree, f_write)\n",
    "#     f_write.close()\n",
    "\n",
    "\n",
    "def grab_tree(filepath):\n",
    "    with open(filepath, \"rb\") as fr:\n",
    "        f_read = pickle.load(fr)\n",
    "    \n",
    "    return f_read\n",
    "\n",
    "savepath = os.path.join(DATA_FOLDER, \"temp__saved_decision_tree.txt\")\n",
    "store_tree(input_tree=decision_tree__id3, filepath=savepath)\n",
    "\n",
    "original_tree = grab_tree(filepath=savepath)\n",
    "original_tree"
   ]
  },
  {
   "cell_type": "markdown",
   "metadata": {},
   "source": [
    "## Practice"
   ]
  },
  {
   "cell_type": "code",
   "execution_count": null,
   "metadata": {},
   "outputs": [],
   "source": []
  }
 ],
 "metadata": {
  "kernelspec": {
   "display_name": "Python 3",
   "language": "python",
   "name": "python3"
  },
  "language_info": {
   "codemirror_mode": {
    "name": "ipython",
    "version": 3
   },
   "file_extension": ".py",
   "mimetype": "text/x-python",
   "name": "python",
   "nbconvert_exporter": "python",
   "pygments_lexer": "ipython3",
   "version": "3.8.3"
  },
  "toc": {
   "base_numbering": 1,
   "nav_menu": {},
   "number_sections": true,
   "sideBar": true,
   "skip_h1_title": true,
   "title_cell": "Table of Contents",
   "title_sidebar": "Contents",
   "toc_cell": true,
   "toc_position": {},
   "toc_section_display": true,
   "toc_window_display": false
  },
  "varInspector": {
   "cols": {
    "lenName": 16,
    "lenType": 16,
    "lenVar": 40
   },
   "kernels_config": {
    "python": {
     "delete_cmd_postfix": "",
     "delete_cmd_prefix": "del ",
     "library": "var_list.py",
     "varRefreshCmd": "print(var_dic_list())"
    },
    "r": {
     "delete_cmd_postfix": ") ",
     "delete_cmd_prefix": "rm(",
     "library": "var_list.r",
     "varRefreshCmd": "cat(var_dic_list()) "
    }
   },
   "position": {
    "height": "479.844px",
    "left": "921px",
    "right": "20px",
    "top": "113px",
    "width": "350px"
   },
   "types_to_exclude": [
    "module",
    "function",
    "builtin_function_or_method",
    "instance",
    "_Feature"
   ],
   "window_display": false
  }
 },
 "nbformat": 4,
 "nbformat_minor": 4
}
