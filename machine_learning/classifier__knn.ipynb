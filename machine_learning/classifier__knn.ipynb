{
 "cells": [
  {
   "cell_type": "markdown",
   "metadata": {
    "toc": true
   },
   "source": [
    "<h1>Table of Contents<span class=\"tocSkip\"></span></h1>\n",
    "<div class=\"toc\"><ul class=\"toc-item\"><li><span><a href=\"#Settings\" data-toc-modified-id=\"Settings-1\"><span class=\"toc-item-num\">1&nbsp;&nbsp;</span>Settings</a></span></li><li><span><a href=\"#Functions\" data-toc-modified-id=\"Functions-2\"><span class=\"toc-item-num\">2&nbsp;&nbsp;</span>Functions</a></span></li><li><span><a href=\"#Digit-Classifier---KNN\" data-toc-modified-id=\"Digit-Classifier---KNN-3\"><span class=\"toc-item-num\">3&nbsp;&nbsp;</span>Digit Classifier - KNN</a></span></li></ul></div>"
   ]
  },
  {
   "cell_type": "code",
   "execution_count": 1,
   "metadata": {
    "ExecuteTime": {
     "end_time": "2021-11-20T15:53:00.799395Z",
     "start_time": "2021-11-20T15:53:00.385184Z"
    }
   },
   "outputs": [],
   "source": [
    "import sys\n",
    "import os\n",
    "import time\n",
    "import datetime\n",
    "import pickle\n",
    "import json\n",
    "import re\n",
    "import operator\n",
    "from collections import defaultdict\n",
    "\n",
    "import numpy as np\n",
    "import pandas as pd\n",
    "\n",
    "import warnings\n",
    "warnings.filterwarnings(\"ignore\")\n",
    "from IPython.core.interactiveshell import InteractiveShell\n",
    "InteractiveShell.ast_node_interactivity = \"all\""
   ]
  },
  {
   "cell_type": "code",
   "execution_count": 2,
   "metadata": {
    "ExecuteTime": {
     "end_time": "2021-11-20T15:53:01.317920Z",
     "start_time": "2021-11-20T15:53:01.311611Z"
    }
   },
   "outputs": [],
   "source": [
    "sys.path.append(\"/Users/xuzhu/Desktop/code/assistants\") # my package\n",
    "\n",
    "from toolbox.os_assistant import scan_folder"
   ]
  },
  {
   "cell_type": "markdown",
   "metadata": {},
   "source": [
    "---"
   ]
  },
  {
   "cell_type": "markdown",
   "metadata": {},
   "source": [
    "## Settings"
   ]
  },
  {
   "cell_type": "code",
   "execution_count": 3,
   "metadata": {
    "ExecuteTime": {
     "end_time": "2021-11-20T15:53:02.552118Z",
     "start_time": "2021-11-20T15:53:02.548038Z"
    }
   },
   "outputs": [],
   "source": [
    "data_folder = \"/Users/xuzhu/Desktop/data/open_dataset\"\n",
    "\n",
    "# converted black img to 0,1 data already\n",
    "project_folder = os.path.join(data_folder, \"digits\")\n",
    "training_data_folder = os.path.join(project_folder, \"training\")\n",
    "test_data_folder = os.path.join(project_folder, \"test\")"
   ]
  },
  {
   "cell_type": "markdown",
   "metadata": {},
   "source": [
    "## Functions"
   ]
  },
  {
   "cell_type": "code",
   "execution_count": 4,
   "metadata": {
    "ExecuteTime": {
     "end_time": "2021-11-20T15:53:03.319230Z",
     "start_time": "2021-11-20T15:53:03.311481Z"
    }
   },
   "outputs": [],
   "source": [
    "def knn_classify(\n",
    "    input_vector,\n",
    "    trainig_set,\n",
    "    labels,\n",
    "    k\n",
    "):\n",
    "    \"\"\"\n",
    "    Here is the description\n",
    "    \"\"\"\n",
    "    \n",
    "    data_size = trainig_set.shape[0]\n",
    "    diff_matrix = np.tile(input_vector, (data_size, 1)) - trainig_set # np.tile(input_array, repetitions)\n",
    "    sq_diff_matrix = diff_matrix ** 2\n",
    "    sq_distance = sq_diff_matrix.sum(axis=1)\n",
    "        # >> sum(axis=1)\n",
    "        # data1: (d1, d2, d3)  --> d1+d2+d3\n",
    "        # data2: (d1, d2, d3)  --> d1+d2+d3\n",
    "    distance = sq_distance ** 0.5\n",
    "    sorted_distance_index_list = distance.argsort() # sort distance\n",
    "    \n",
    "    class_stats = {}\n",
    "    for i in range(k):\n",
    "        vote_label = labels[sorted_distance_index_list[i]]\n",
    "        class_stats[vote_label] = class_stats.get(vote_label, 0) + 1\n",
    "        \n",
    "    sorted_class_stats = sorted(\n",
    "        class_stats.items(), # an item: (label, value) --> index: 0 is label, 1 is value\n",
    "        key=operator.itemgetter(1),\n",
    "            # NOTE: The key parameter is always a function that is fed one item from the iterable\n",
    "        reverse=True\n",
    "    )\n",
    "    \n",
    "    label_output = sorted_class_stats[0][0] # [(label, value), (label, value), ...] \n",
    "        # choose the label with the max cnt value\n",
    "    return label_output"
   ]
  },
  {
   "cell_type": "code",
   "execution_count": 5,
   "metadata": {
    "ExecuteTime": {
     "end_time": "2021-11-20T15:53:03.798994Z",
     "start_time": "2021-11-20T15:53:03.794053Z"
    }
   },
   "outputs": [],
   "source": [
    "# TEST\n",
    "# test_filename = scan_results[\"file\"][\"txt\"][0]\n",
    "# test_filepath = os.path.join(training_set_folder, test_filename)\n",
    "# test_filepath\n",
    "# return_vector = np.zeros((1, 1024)) # 1024 = 32x32 img\n",
    "# with open(test_filepath, \"r\") as f:\n",
    "#     size = 32 \n",
    "#     for i in range(size): # 32 rows\n",
    "#         line_str = f.readline()\n",
    "#         for j in range(size): # the first 32 characters\n",
    "#             return_vector[0, 32*i+j] = line_str[j]\n",
    "# return_vector[0, 11]\n",
    "\n",
    "def convert_img_to_vector__temp(img_data_filepath):\n",
    "    return_vector = np.zeros((1, 1024)) # 1024 = 32x32 img\n",
    "    with open(img_data_filepath, \"r\") as f: # f.readlines()\n",
    "        size = 32 \n",
    "        for i in range(size): # 32 rows\n",
    "            line_str = f.readline()\n",
    "            for j in range(size): # read the first 32 characters\n",
    "                return_vector[0, 32*i+j] = line_str[j]\n",
    "                \n",
    "    return return_vector"
   ]
  },
  {
   "cell_type": "markdown",
   "metadata": {},
   "source": [
    "## Digit Classifier - KNN"
   ]
  },
  {
   "cell_type": "code",
   "execution_count": 7,
   "metadata": {
    "ExecuteTime": {
     "end_time": "2021-11-20T15:53:16.196011Z",
     "start_time": "2021-11-20T15:53:15.525428Z"
    }
   },
   "outputs": [
    {
     "name": "stdout",
     "output_type": "stream",
     "text": [
      "\n",
      "        \n",
      "\r",
      "============================== SCAN FOLDER ==============================\n",
      "        \r",
      "Folder Path: '/Users/xuzhu/Desktop/data/open_dataset/digits/training'\n",
      "        \r",
      "Subfolders: 0 => []\n",
      "        \r",
      "Filetypes: 1 => ['txt']\n",
      "        \r",
      "-'txt' file count: 1934\n"
     ]
    }
   ],
   "source": [
    "training_data_folder_scan_results = scan_folder(training_data_folder)\n",
    "training_filenames = training_data_folder_scan_results[\"file\"][\"txt\"]\n",
    "training_file_cnt = len(training_filenames)\n",
    "\n",
    "# Training Data\n",
    "training_matrix = np.zeros((training_file_cnt, 1024)) # 32x32 img\n",
    "training_data_labels = []\n",
    "for i in range(training_file_cnt):\n",
    "    filename = training_filenames[i] # {label}_{No.}.txt\n",
    "    label = int(filename.split(\"_\")[0])\n",
    "    training_data_labels.append(label)\n",
    "    \n",
    "    filepath = os.path.join(training_data_folder, filename)\n",
    "    training_matrix[i, :] = convert_img_to_vector__temp(filepath)"
   ]
  },
  {
   "cell_type": "code",
   "execution_count": 8,
   "metadata": {
    "ExecuteTime": {
     "end_time": "2021-11-20T15:53:28.459114Z",
     "start_time": "2021-11-20T15:53:17.032357Z"
    }
   },
   "outputs": [
    {
     "name": "stdout",
     "output_type": "stream",
     "text": [
      "\n",
      "        \n",
      "============================== SCAN FOLDER ==============================\n",
      "Folder Path: '/Users/xuzhu/Desktop/data/open_dataset/digits/test'\n",
      "Subfolders: 0 => []\n",
      "Filetypes: 1 => ['txt']\n",
      "-'txt' file count: 946\n",
      "\n",
      "\n",
      "============================== Digit Classifier Outputs(KNN) ==============================\n",
      "The total number of test cases is 946\n",
      "The total number of errors is 18\n",
      "The total error rate is 1.9%\n"
     ]
    }
   ],
   "source": [
    "test_data_folder_scan_result = scan_folder(test_data_folder)\n",
    "test_filenames = test_data_folder_scan_result[\"file\"][\"txt\"]\n",
    "test_file_cnt = len(test_filenames)\n",
    "\n",
    "# Test Data\n",
    "error_cnt = 0\n",
    "for i in range(test_file_cnt):\n",
    "    filename = test_filenames[i]\n",
    "    label = int(filename.split(\"_\")[0])\n",
    "    \n",
    "    filepath = os.path.join(training_data_folder, filename)\n",
    "    vector_under_test = convert_img_to_vector__temp(filepath)\n",
    "    test_result = knn_classify(\n",
    "        input_vector=vector_under_test,\n",
    "        trainig_set=training_matrix,\n",
    "        labels=training_data_labels,\n",
    "        k=8\n",
    "    )\n",
    "    # print(\"The KNN classifier return with {0}; the real label is {1}\".format(test_result, label))\n",
    "    \n",
    "    if test_result != label:\n",
    "        error_cnt += 1\n",
    "\n",
    "print(\"\\n\\n{0} Digit Classifier Outputs(KNN) {1}\".format(\"=\"*30, \"=\"*30))\n",
    "print(\"The total number of test cases is {0}\".format(test_file_cnt))\n",
    "print(\"The total number of errors is {0}\".format(error_cnt))\n",
    "print(\"The total error rate is {0}\"\\\n",
    "      .format(\n",
    "        str(round(100*error_cnt/test_file_cnt, 2))+\"%\"\n",
    "        )\n",
    "    )"
   ]
  }
 ],
 "metadata": {
  "kernelspec": {
   "display_name": "Python 3",
   "language": "python",
   "name": "python3"
  },
  "language_info": {
   "codemirror_mode": {
    "name": "ipython",
    "version": 3
   },
   "file_extension": ".py",
   "mimetype": "text/x-python",
   "name": "python",
   "nbconvert_exporter": "python",
   "pygments_lexer": "ipython3",
   "version": "3.8.3"
  },
  "toc": {
   "base_numbering": 1,
   "nav_menu": {},
   "number_sections": true,
   "sideBar": true,
   "skip_h1_title": true,
   "title_cell": "Table of Contents",
   "title_sidebar": "Contents",
   "toc_cell": true,
   "toc_position": {},
   "toc_section_display": true,
   "toc_window_display": false
  },
  "varInspector": {
   "cols": {
    "lenName": 16,
    "lenType": 16,
    "lenVar": 40
   },
   "kernels_config": {
    "python": {
     "delete_cmd_postfix": "",
     "delete_cmd_prefix": "del ",
     "library": "var_list.py",
     "varRefreshCmd": "print(var_dic_list())"
    },
    "r": {
     "delete_cmd_postfix": ") ",
     "delete_cmd_prefix": "rm(",
     "library": "var_list.r",
     "varRefreshCmd": "cat(var_dic_list()) "
    }
   },
   "position": {
    "height": "397.844px",
    "left": "1021px",
    "right": "20px",
    "top": "4px",
    "width": "350px"
   },
   "types_to_exclude": [
    "module",
    "function",
    "builtin_function_or_method",
    "instance",
    "_Feature"
   ],
   "window_display": false
  }
 },
 "nbformat": 4,
 "nbformat_minor": 4
}
