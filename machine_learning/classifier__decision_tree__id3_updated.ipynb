{
 "cells": [
  {
   "cell_type": "markdown",
   "metadata": {
    "toc": true
   },
   "source": [
    "<h1>Table of Contents<span class=\"tocSkip\"></span></h1>\n",
    "<div class=\"toc\"><ul class=\"toc-item\"><li><span><a href=\"#Setting\" data-toc-modified-id=\"Setting-1\"><span class=\"toc-item-num\">1&nbsp;&nbsp;</span>Setting</a></span></li><li><span><a href=\"#Build-Decision-Tree-(ID3)\" data-toc-modified-id=\"Build-Decision-Tree-(ID3)-2\"><span class=\"toc-item-num\">2&nbsp;&nbsp;</span>Build Decision Tree (ID3)</a></span><ul class=\"toc-item\"><li><span><a href=\"#Calculate-Shannon-Entropy\" data-toc-modified-id=\"Calculate-Shannon-Entropy-2.1\"><span class=\"toc-item-num\">2.1&nbsp;&nbsp;</span>Calculate Shannon Entropy</a></span></li><li><span><a href=\"#Split-Dataset-Based-on-Information-Gain\" data-toc-modified-id=\"Split-Dataset-Based-on-Information-Gain-2.2\"><span class=\"toc-item-num\">2.2&nbsp;&nbsp;</span>Split Dataset Based on Information Gain</a></span></li><li><span><a href=\"#Create-Tree\" data-toc-modified-id=\"Create-Tree-2.3\"><span class=\"toc-item-num\">2.3&nbsp;&nbsp;</span>Create Tree</a></span></li><li><span><a href=\"#Check-Tree-Info\" data-toc-modified-id=\"Check-Tree-Info-2.4\"><span class=\"toc-item-num\">2.4&nbsp;&nbsp;</span>Check Tree Info</a></span></li><li><span><a href=\"#Save-&amp;-Load-Model\" data-toc-modified-id=\"Save-&amp;-Load-Model-2.5\"><span class=\"toc-item-num\">2.5&nbsp;&nbsp;</span>Save &amp; Load Model</a></span></li></ul></li><li><span><a href=\"#Practice\" data-toc-modified-id=\"Practice-3\"><span class=\"toc-item-num\">3&nbsp;&nbsp;</span>Practice</a></span></li></ul></div>"
   ]
  },
  {
   "cell_type": "code",
   "execution_count": 1,
   "metadata": {
    "ExecuteTime": {
     "end_time": "2021-11-25T16:19:05.765476Z",
     "start_time": "2021-11-25T16:19:05.018267Z"
    }
   },
   "outputs": [],
   "source": [
    "import sys\n",
    "import os\n",
    "import time\n",
    "import datetime\n",
    "import pickle\n",
    "import json\n",
    "import re\n",
    "import operator\n",
    "\n",
    "from math import log\n",
    "from collections import defaultdict\n",
    "\n",
    "import numpy as np\n",
    "import pandas as pd\n",
    "import matplotlib.pyplot as plt\n",
    "\n",
    "import warnings\n",
    "warnings.filterwarnings(\"ignore\")\n",
    "from IPython.core.interactiveshell import InteractiveShell\n",
    "InteractiveShell.ast_node_interactivity = \"all\"\n",
    "\n",
    "\n",
    "sys.path.append(\"/Users/xuzhu/Desktop/code/assistants\") # my package\n",
    "from toolbox.os_assistant import scan_folder"
   ]
  },
  {
   "cell_type": "markdown",
   "metadata": {},
   "source": [
    "---"
   ]
  },
  {
   "cell_type": "markdown",
   "metadata": {},
   "source": [
    "## Setting"
   ]
  },
  {
   "cell_type": "code",
   "execution_count": 2,
   "metadata": {
    "ExecuteTime": {
     "end_time": "2021-11-25T16:19:07.638646Z",
     "start_time": "2021-11-25T16:19:07.636220Z"
    }
   },
   "outputs": [],
   "source": [
    "DATA_FOLDER = \"/Users/xuzhu/Desktop/data/open_dataset\""
   ]
  },
  {
   "cell_type": "markdown",
   "metadata": {},
   "source": [
    "Given a discrete random variable $X$, with possible outcomes $x_{1},..., x_{n}$, which occur with probability $P(x_{n}),..., P(x_{n})$, the **<font color=red>entropy</font>** of $X$ is formally defined as:<br>\n",
    "$$H = - \\sum^{n}_{i=1} p(x_{i}) log_{2} p(x_{i})$$"
   ]
  },
  {
   "cell_type": "code",
   "execution_count": 3,
   "metadata": {
    "ExecuteTime": {
     "end_time": "2021-11-25T16:19:10.021653Z",
     "start_time": "2021-11-25T16:19:10.008890Z"
    }
   },
   "outputs": [
    {
     "data": {
      "text/html": [
       "<div>\n",
       "<style scoped>\n",
       "    .dataframe tbody tr th:only-of-type {\n",
       "        vertical-align: middle;\n",
       "    }\n",
       "\n",
       "    .dataframe tbody tr th {\n",
       "        vertical-align: top;\n",
       "    }\n",
       "\n",
       "    .dataframe thead th {\n",
       "        text-align: right;\n",
       "    }\n",
       "</style>\n",
       "<table border=\"1\" class=\"dataframe\">\n",
       "  <thead>\n",
       "    <tr style=\"text-align: right;\">\n",
       "      <th></th>\n",
       "      <th>is_big</th>\n",
       "      <th>is_white</th>\n",
       "      <th>good</th>\n",
       "    </tr>\n",
       "  </thead>\n",
       "  <tbody>\n",
       "    <tr>\n",
       "      <th>0</th>\n",
       "      <td>1</td>\n",
       "      <td>1</td>\n",
       "      <td>Y</td>\n",
       "    </tr>\n",
       "    <tr>\n",
       "      <th>1</th>\n",
       "      <td>1</td>\n",
       "      <td>0</td>\n",
       "      <td>N</td>\n",
       "    </tr>\n",
       "    <tr>\n",
       "      <th>2</th>\n",
       "      <td>1</td>\n",
       "      <td>1</td>\n",
       "      <td>Y</td>\n",
       "    </tr>\n",
       "    <tr>\n",
       "      <th>3</th>\n",
       "      <td>0</td>\n",
       "      <td>1</td>\n",
       "      <td>N</td>\n",
       "    </tr>\n",
       "    <tr>\n",
       "      <th>4</th>\n",
       "      <td>0</td>\n",
       "      <td>1</td>\n",
       "      <td>N</td>\n",
       "    </tr>\n",
       "  </tbody>\n",
       "</table>\n",
       "</div>"
      ],
      "text/plain": [
       "   is_big  is_white good\n",
       "0       1         1    Y\n",
       "1       1         0    N\n",
       "2       1         1    Y\n",
       "3       0         1    N\n",
       "4       0         1    N"
      ]
     },
     "execution_count": 3,
     "metadata": {},
     "output_type": "execute_result"
    }
   ],
   "source": [
    "raw_data = [\n",
    "    [1, 1, \"Y\"],\n",
    "    [1, 0, \"N\"],\n",
    "    [1, 1, \"Y\"],\n",
    "    [0, 1, \"N\"],\n",
    "    [0, 1, \"N\"]\n",
    "]\n",
    "\n",
    "raw_df = pd.DataFrame(\n",
    "    data=raw_data,\n",
    "    columns=[\"is_big\", \"is_white\", \"good\"]\n",
    ")\n",
    "\n",
    "raw_df"
   ]
  },
  {
   "cell_type": "markdown",
   "metadata": {},
   "source": [
    "## Build Decision Tree (ID3)"
   ]
  },
  {
   "cell_type": "markdown",
   "metadata": {},
   "source": [
    "### Calculate Shannon Entropy"
   ]
  },
  {
   "cell_type": "code",
   "execution_count": 4,
   "metadata": {
    "ExecuteTime": {
     "end_time": "2021-11-25T16:19:10.791063Z",
     "start_time": "2021-11-25T16:19:10.784393Z"
    }
   },
   "outputs": [
    {
     "data": {
      "text/plain": [
       "0.9709505944546686"
      ]
     },
     "execution_count": 4,
     "metadata": {},
     "output_type": "execute_result"
    }
   ],
   "source": [
    "def calculate_shannon_entropy(df):\n",
    "    \"\"\"\n",
    "    Calculate Shannon entropy of the dataset\n",
    "    \"\"\"\n",
    "    entity_qty = df.shape[0]\n",
    "    class_stats = defaultdict(int)\n",
    "    for index, row in df.iterrows():\n",
    "        current_class = row[-1]\n",
    "        class_stats[current_class] += 1\n",
    "    \n",
    "    shannon_entropy = 0\n",
    "    for key in class_stats.keys():\n",
    "        class_prob = class_stats[key] / entity_qty\n",
    "        shannon_entropy = shannon_entropy - class_prob * log(class_prob, 2)\n",
    "    \n",
    "    return shannon_entropy\n",
    "        \n",
    "calculate_shannon_entropy(raw_df)"
   ]
  },
  {
   "cell_type": "markdown",
   "metadata": {},
   "source": [
    "### Split Dataset Based on Information Gain"
   ]
  },
  {
   "cell_type": "code",
   "execution_count": 5,
   "metadata": {
    "ExecuteTime": {
     "end_time": "2021-11-25T16:19:10.969944Z",
     "start_time": "2021-11-25T16:19:10.952352Z"
    }
   },
   "outputs": [
    {
     "data": {
      "text/html": [
       "<div>\n",
       "<style scoped>\n",
       "    .dataframe tbody tr th:only-of-type {\n",
       "        vertical-align: middle;\n",
       "    }\n",
       "\n",
       "    .dataframe tbody tr th {\n",
       "        vertical-align: top;\n",
       "    }\n",
       "\n",
       "    .dataframe thead th {\n",
       "        text-align: right;\n",
       "    }\n",
       "</style>\n",
       "<table border=\"1\" class=\"dataframe\">\n",
       "  <thead>\n",
       "    <tr style=\"text-align: right;\">\n",
       "      <th></th>\n",
       "      <th>is_white</th>\n",
       "      <th>good</th>\n",
       "    </tr>\n",
       "  </thead>\n",
       "  <tbody>\n",
       "    <tr>\n",
       "      <th>0</th>\n",
       "      <td>1</td>\n",
       "      <td>N</td>\n",
       "    </tr>\n",
       "    <tr>\n",
       "      <th>1</th>\n",
       "      <td>1</td>\n",
       "      <td>N</td>\n",
       "    </tr>\n",
       "  </tbody>\n",
       "</table>\n",
       "</div>"
      ],
      "text/plain": [
       "  is_white good\n",
       "0        1    N\n",
       "1        1    N"
      ]
     },
     "execution_count": 5,
     "metadata": {},
     "output_type": "execute_result"
    }
   ],
   "source": [
    "def split_dataset(\n",
    "    df,\n",
    "    feature_name,\n",
    "    feature_value\n",
    "):\n",
    "    \"\"\"\n",
    "    Split dataset based on Shannon entropy\n",
    "    \n",
    "    If the entity's feature value = specific feature value\n",
    "    ==> matched, grab this entity and delete this used feature to build a new dataset\n",
    "    ==> all features only use once in this algorithm !!!\n",
    "    \"\"\"\n",
    "    \n",
    "    col_list = df.columns.to_list()\n",
    "    col_list.remove(feature_name)\n",
    "    new_df = pd.DataFrame(columns=col_list) # make sure the column position unchanged\n",
    "    \n",
    "    for index, row in df.iterrows(): # scan all rows\n",
    "        if row[feature_name] == feature_value: \n",
    "            new_row = row.drop(feature_name)\n",
    "            new_df = new_df.append(new_row, ignore_index=True) # Q: why does the col index change randomly?\n",
    "        else: # not matched\n",
    "            pass\n",
    "    \n",
    "    return new_df\n",
    "            \n",
    "split_dataset(\n",
    "    df=raw_df,\n",
    "    feature_name=\"is_big\",\n",
    "    feature_value=0\n",
    ")     "
   ]
  },
  {
   "cell_type": "code",
   "execution_count": 6,
   "metadata": {
    "ExecuteTime": {
     "end_time": "2021-11-25T16:19:11.121087Z",
     "start_time": "2021-11-25T16:19:11.050328Z"
    }
   },
   "outputs": [
    {
     "data": {
      "text/plain": [
       "'is_big'"
      ]
     },
     "execution_count": 6,
     "metadata": {},
     "output_type": "execute_result"
    }
   ],
   "source": [
    "def choose_best_feature_to_split(df):\n",
    "    \"\"\"\n",
    "    Compare different features and choose the best one to split the dataset\n",
    "    \n",
    "    信息增益代表了在一个条件下, 信息复杂度(不确定性)减少的程度\n",
    "    如果选择一个特征, 信息增益最大(信息不确定性减少的程度最大), 那么我们就选取这个特征\n",
    "    信息增益 = 信息熵 - 条件熵\n",
    "    ==> https://zhuanlan.zhihu.com/p/26596036\n",
    "    \"\"\"\n",
    "    entropy__base = calculate_shannon_entropy(df)\n",
    "    info_gain__max = 0\n",
    "    \n",
    "    # feature_qty = len(df.columns) - 1 # assume the last one column is the label\n",
    "    feature_name_list = df.columns.to_list()[:-1] # exclude the label\n",
    "    feature_qty = len(feature_name_list)\n",
    "    best_feature_name = feature_name_list[-1]\n",
    "    \n",
    "    for feature_name in feature_name_list: # scan all feature columns\n",
    "        # split dataset by using this feature, calculate the information gain\n",
    "        current_feature_value_list = [row[feature_name] for index, row in df.iterrows()]\n",
    "        uniq_feature_value_set = set(current_feature_value_list) # uniq value (or we can say 'class')\n",
    "        \n",
    "        entropy__condition = 0\n",
    "        for feature_value in uniq_feature_value_set: # calculate the conditional entropy\n",
    "            df__new = split_dataset(\n",
    "                df=df,\n",
    "                feature_name=feature_name,\n",
    "                feature_value=feature_value\n",
    "            )\n",
    "            prob = df__new.shape[0] / df.shape[0] # calculate the probability of the subclass\n",
    "            entropy__condition = entropy__condition + prob * calculate_shannon_entropy(df__new)\n",
    "        \n",
    "        info_gain = entropy__base - entropy__condition\n",
    "        if info_gain > info_gain__max:\n",
    "            info_gain__max = info_gain\n",
    "            best_feature_name = feature_name\n",
    "        else:\n",
    "            pass\n",
    "    \n",
    "    return best_feature_name\n",
    "            \n",
    "choose_best_feature_to_split(raw_df)"
   ]
  },
  {
   "cell_type": "markdown",
   "metadata": {},
   "source": [
    "### Create Tree"
   ]
  },
  {
   "cell_type": "code",
   "execution_count": 7,
   "metadata": {
    "ExecuteTime": {
     "end_time": "2021-11-25T16:19:11.216412Z",
     "start_time": "2021-11-25T16:19:11.203703Z"
    }
   },
   "outputs": [
    {
     "data": {
      "text/plain": [
       "[('k2', 2), ('k1', 1)]"
      ]
     },
     "execution_count": 7,
     "metadata": {},
     "output_type": "execute_result"
    },
    {
     "data": {
      "text/plain": [
       "'a'"
      ]
     },
     "execution_count": 7,
     "metadata": {},
     "output_type": "execute_result"
    }
   ],
   "source": [
    "def majority_vote(class_list):\n",
    "    class_stats = {}\n",
    "    for class_value in class_list:\n",
    "        if class_value not in class_stats.keys():\n",
    "            class_stats[class_value] = 0\n",
    "        else:\n",
    "            class_stats[class_value] += 1\n",
    "        \n",
    "    sorted_class_list = sorted(\n",
    "        class_stats.items(),\n",
    "        key=operator.itemgetter(1),\n",
    "        reverse=True\n",
    "    )\n",
    "    # [(key, value), (key, value),... ]\n",
    "    \n",
    "    majority_class_value = sorted_class_list[0][0] # choose the key (class value) of the first element\n",
    "    return majority_class_value\n",
    "\n",
    "\n",
    "t = {\n",
    "    \"k1\": 1,\n",
    "    \"k2\": 2\n",
    "}\n",
    "sorted(t.items(), key=operator.itemgetter(1), reverse=True)\n",
    "\n",
    "majority_vote([\"a\", \"b\", \"a\", \"c\", \"b\", \"a\"])"
   ]
  },
  {
   "cell_type": "code",
   "execution_count": 8,
   "metadata": {
    "ExecuteTime": {
     "end_time": "2021-11-25T16:19:11.396224Z",
     "start_time": "2021-11-25T16:19:11.291265Z"
    }
   },
   "outputs": [
    {
     "data": {
      "text/plain": [
       "{'is_big': {0: 'N', 1: {'is_white': {0: 'N', 1: 'Y'}}}}"
      ]
     },
     "execution_count": 8,
     "metadata": {},
     "output_type": "execute_result"
    }
   ],
   "source": [
    "def create_decision_tree__id3(df):\n",
    "    \"\"\"\n",
    "    Create a decision tree based on ID3 algorithm\n",
    "    All features will be used once only\n",
    "    \"\"\"\n",
    "    label_list = [row[-1] for index, row in df.iterrows()]\n",
    "    if label_list.count(label_list[0]) == len(label_list): # stop condition 1: only 1 class ==> leaf node\n",
    "        label = label_list[0]\n",
    "        return label\n",
    "    if len(df.iloc[0]) == 1: # stop condition 2: no other features\n",
    "        # used all features but there still be several classes\n",
    "        # need choose the majority class\n",
    "        label = majority_vote(label_list)\n",
    "        return label\n",
    "    \n",
    "    feature_name_list = df.columns.to_list()[:-1] # exclude the label\n",
    "    feature_name = choose_best_feature_to_split(df)\n",
    "    tree = {\n",
    "        feature_name: {}\n",
    "    }\n",
    "    feature_name_list.remove(feature_name)\n",
    "    \n",
    "    feature_value_list = [row[feature_name] for index, row in df.iterrows()]\n",
    "    uniq_feature_value_set = set(feature_value_list)\n",
    "    for feature_value in uniq_feature_value_set:\n",
    "        sub_df = split_dataset(\n",
    "            df=df,\n",
    "            feature_name=feature_name,\n",
    "            feature_value=feature_value\n",
    "        )\n",
    "        \n",
    "        tree[feature_name][feature_value] = create_decision_tree__id3(df=sub_df)\n",
    "        \n",
    "    return tree\n",
    "\n",
    "    \n",
    "raw_tree = create_decision_tree__id3(raw_df)\n",
    "raw_tree"
   ]
  },
  {
   "cell_type": "markdown",
   "metadata": {},
   "source": [
    "### Check Tree Info"
   ]
  },
  {
   "cell_type": "code",
   "execution_count": 9,
   "metadata": {
    "ExecuteTime": {
     "end_time": "2021-11-25T16:19:11.457805Z",
     "start_time": "2021-11-25T16:19:11.451499Z"
    }
   },
   "outputs": [
    {
     "data": {
      "text/plain": [
       "3"
      ]
     },
     "execution_count": 9,
     "metadata": {},
     "output_type": "execute_result"
    }
   ],
   "source": [
    "def get_leaf_qty(tree_dict):\n",
    "    leaf_qty = 0\n",
    "    first_feature = list(tree_dict.keys())[0]\n",
    "    \n",
    "    sub_tree_dict = tree_dict[first_feature]\n",
    "    for key in sub_tree_dict.keys():\n",
    "        if type(sub_tree_dict[key]).__name__ == \"dict\":\n",
    "            leaf_qty += get_leaf_qty(sub_tree_dict[key])\n",
    "        else:\n",
    "            leaf_qty += 1\n",
    "            \n",
    "    return leaf_qty\n",
    "\n",
    "get_leaf_qty(raw_tree)"
   ]
  },
  {
   "cell_type": "code",
   "execution_count": 10,
   "metadata": {
    "ExecuteTime": {
     "end_time": "2021-11-25T16:19:11.545064Z",
     "start_time": "2021-11-25T16:19:11.537392Z"
    }
   },
   "outputs": [
    {
     "data": {
      "text/plain": [
       "2"
      ]
     },
     "execution_count": 10,
     "metadata": {},
     "output_type": "execute_result"
    }
   ],
   "source": [
    "def get_tree_depth(tree_dict):\n",
    "    depth__max = 0\n",
    "    first_feature = list(tree_dict.keys())[0]\n",
    "    \n",
    "    sub_tree_dict = tree_dict[first_feature]\n",
    "    for key in sub_tree_dict.keys():\n",
    "        if type(sub_tree_dict[key]) is dict:\n",
    "            depth__current = 1 + get_tree_depth(sub_tree_dict[key])\n",
    "        else:\n",
    "            depth__current = 1\n",
    "        \n",
    "        if depth__current > depth__max:\n",
    "            depth__max = depth__current\n",
    "    \n",
    "    return depth__max\n",
    "\n",
    "get_tree_depth(raw_tree)"
   ]
  },
  {
   "cell_type": "markdown",
   "metadata": {},
   "source": [
    "### Save & Load Model"
   ]
  },
  {
   "cell_type": "code",
   "execution_count": 11,
   "metadata": {
    "ExecuteTime": {
     "end_time": "2021-11-25T16:19:11.708273Z",
     "start_time": "2021-11-25T16:19:11.702739Z"
    }
   },
   "outputs": [
    {
     "data": {
      "text/plain": [
       "'20211126'"
      ]
     },
     "execution_count": 11,
     "metadata": {},
     "output_type": "execute_result"
    }
   ],
   "source": [
    "output_folder = os.path.join(DATA_FOLDER, \"test__decision_tree\")\n",
    "\n",
    "today_str = datetime.datetime.today().strftime(\"%Y%m%d\") # yyyymmdd\n",
    "today_str\n",
    "\n",
    "output_filepath = os.path.join(output_folder, \"decision_tree__id3__v{0}.txt\".format(today_str))"
   ]
  },
  {
   "cell_type": "code",
   "execution_count": 12,
   "metadata": {
    "ExecuteTime": {
     "end_time": "2021-11-25T16:19:12.207934Z",
     "start_time": "2021-11-25T16:19:12.202588Z"
    }
   },
   "outputs": [],
   "source": [
    "def save_tree(\n",
    "    input_tree,\n",
    "    filepath\n",
    "):\n",
    "    with open(filepath, \"wb\") as f_write:\n",
    "        pickle.dump(input_tree, f_write)\n",
    "\n",
    "save_tree(\n",
    "    input_tree=raw_tree,\n",
    "    filepath=output_filepath\n",
    ")"
   ]
  },
  {
   "cell_type": "code",
   "execution_count": 13,
   "metadata": {
    "ExecuteTime": {
     "end_time": "2021-11-25T16:19:12.367912Z",
     "start_time": "2021-11-25T16:19:12.362911Z"
    }
   },
   "outputs": [
    {
     "data": {
      "text/plain": [
       "{'is_big': {0: 'N', 1: {'is_white': {0: 'N', 1: 'Y'}}}}"
      ]
     },
     "execution_count": 13,
     "metadata": {},
     "output_type": "execute_result"
    }
   ],
   "source": [
    "def load_tree(filepath):\n",
    "    with open(filepath, \"rb\") as f_read:\n",
    "        tree = pickle.load(f_read)\n",
    "    \n",
    "    return tree\n",
    "\n",
    "loaded_tree = load_tree(output_filepath)\n",
    "loaded_tree"
   ]
  },
  {
   "cell_type": "markdown",
   "metadata": {},
   "source": [
    "## Practice"
   ]
  },
  {
   "cell_type": "code",
   "execution_count": 17,
   "metadata": {
    "ExecuteTime": {
     "end_time": "2021-11-25T16:33:21.283046Z",
     "start_time": "2021-11-25T16:33:21.279530Z"
    }
   },
   "outputs": [],
   "source": [
    "project_folder = os.path.join(DATA_FOLDER, \"ml__lenses\")\n",
    "\n",
    "data_filepath = os.path.join(project_folder, \"lenses.txt\")"
   ]
  },
  {
   "cell_type": "code",
   "execution_count": 20,
   "metadata": {
    "ExecuteTime": {
     "end_time": "2021-11-25T16:35:44.237778Z",
     "start_time": "2021-11-25T16:35:44.233217Z"
    }
   },
   "outputs": [],
   "source": [
    "with open(data_filepath, \"r\") as f_read:\n",
    "    readline_list = f_read.readlines()\n",
    "\n",
    "rawdata = [line.strip().split(\"\\t\") for line in readline_list]"
   ]
  },
  {
   "cell_type": "code",
   "execution_count": 26,
   "metadata": {
    "ExecuteTime": {
     "end_time": "2021-11-25T16:41:59.293962Z",
     "start_time": "2021-11-25T16:41:59.273205Z"
    }
   },
   "outputs": [
    {
     "data": {
      "text/plain": [
       "['young', 'myope', 'no', 'reduced', 'no lenses']"
      ]
     },
     "execution_count": 26,
     "metadata": {},
     "output_type": "execute_result"
    },
    {
     "data": {
      "text/html": [
       "<div>\n",
       "<style scoped>\n",
       "    .dataframe tbody tr th:only-of-type {\n",
       "        vertical-align: middle;\n",
       "    }\n",
       "\n",
       "    .dataframe tbody tr th {\n",
       "        vertical-align: top;\n",
       "    }\n",
       "\n",
       "    .dataframe thead th {\n",
       "        text-align: right;\n",
       "    }\n",
       "</style>\n",
       "<table border=\"1\" class=\"dataframe\">\n",
       "  <thead>\n",
       "    <tr style=\"text-align: right;\">\n",
       "      <th></th>\n",
       "      <th>age</th>\n",
       "      <th>prescript</th>\n",
       "      <th>asticmatic</th>\n",
       "      <th>tear_rate</th>\n",
       "      <th>lenses_type</th>\n",
       "    </tr>\n",
       "  </thead>\n",
       "  <tbody>\n",
       "    <tr>\n",
       "      <th>0</th>\n",
       "      <td>young</td>\n",
       "      <td>myope</td>\n",
       "      <td>no</td>\n",
       "      <td>reduced</td>\n",
       "      <td>no lenses</td>\n",
       "    </tr>\n",
       "    <tr>\n",
       "      <th>1</th>\n",
       "      <td>young</td>\n",
       "      <td>myope</td>\n",
       "      <td>no</td>\n",
       "      <td>normal</td>\n",
       "      <td>soft</td>\n",
       "    </tr>\n",
       "    <tr>\n",
       "      <th>2</th>\n",
       "      <td>young</td>\n",
       "      <td>myope</td>\n",
       "      <td>yes</td>\n",
       "      <td>reduced</td>\n",
       "      <td>no lenses</td>\n",
       "    </tr>\n",
       "    <tr>\n",
       "      <th>3</th>\n",
       "      <td>young</td>\n",
       "      <td>myope</td>\n",
       "      <td>yes</td>\n",
       "      <td>normal</td>\n",
       "      <td>hard</td>\n",
       "    </tr>\n",
       "    <tr>\n",
       "      <th>4</th>\n",
       "      <td>young</td>\n",
       "      <td>hyper</td>\n",
       "      <td>no</td>\n",
       "      <td>reduced</td>\n",
       "      <td>no lenses</td>\n",
       "    </tr>\n",
       "    <tr>\n",
       "      <th>5</th>\n",
       "      <td>young</td>\n",
       "      <td>hyper</td>\n",
       "      <td>no</td>\n",
       "      <td>normal</td>\n",
       "      <td>soft</td>\n",
       "    </tr>\n",
       "    <tr>\n",
       "      <th>6</th>\n",
       "      <td>young</td>\n",
       "      <td>hyper</td>\n",
       "      <td>yes</td>\n",
       "      <td>reduced</td>\n",
       "      <td>no lenses</td>\n",
       "    </tr>\n",
       "    <tr>\n",
       "      <th>7</th>\n",
       "      <td>young</td>\n",
       "      <td>hyper</td>\n",
       "      <td>yes</td>\n",
       "      <td>normal</td>\n",
       "      <td>hard</td>\n",
       "    </tr>\n",
       "    <tr>\n",
       "      <th>8</th>\n",
       "      <td>pre</td>\n",
       "      <td>myope</td>\n",
       "      <td>no</td>\n",
       "      <td>reduced</td>\n",
       "      <td>no lenses</td>\n",
       "    </tr>\n",
       "    <tr>\n",
       "      <th>9</th>\n",
       "      <td>pre</td>\n",
       "      <td>myope</td>\n",
       "      <td>no</td>\n",
       "      <td>normal</td>\n",
       "      <td>soft</td>\n",
       "    </tr>\n",
       "    <tr>\n",
       "      <th>10</th>\n",
       "      <td>pre</td>\n",
       "      <td>myope</td>\n",
       "      <td>yes</td>\n",
       "      <td>reduced</td>\n",
       "      <td>no lenses</td>\n",
       "    </tr>\n",
       "    <tr>\n",
       "      <th>11</th>\n",
       "      <td>pre</td>\n",
       "      <td>myope</td>\n",
       "      <td>yes</td>\n",
       "      <td>normal</td>\n",
       "      <td>hard</td>\n",
       "    </tr>\n",
       "    <tr>\n",
       "      <th>12</th>\n",
       "      <td>pre</td>\n",
       "      <td>hyper</td>\n",
       "      <td>no</td>\n",
       "      <td>reduced</td>\n",
       "      <td>no lenses</td>\n",
       "    </tr>\n",
       "    <tr>\n",
       "      <th>13</th>\n",
       "      <td>pre</td>\n",
       "      <td>hyper</td>\n",
       "      <td>no</td>\n",
       "      <td>normal</td>\n",
       "      <td>soft</td>\n",
       "    </tr>\n",
       "    <tr>\n",
       "      <th>14</th>\n",
       "      <td>pre</td>\n",
       "      <td>hyper</td>\n",
       "      <td>yes</td>\n",
       "      <td>reduced</td>\n",
       "      <td>no lenses</td>\n",
       "    </tr>\n",
       "    <tr>\n",
       "      <th>15</th>\n",
       "      <td>pre</td>\n",
       "      <td>hyper</td>\n",
       "      <td>yes</td>\n",
       "      <td>normal</td>\n",
       "      <td>no lenses</td>\n",
       "    </tr>\n",
       "    <tr>\n",
       "      <th>16</th>\n",
       "      <td>presbyopic</td>\n",
       "      <td>myope</td>\n",
       "      <td>no</td>\n",
       "      <td>reduced</td>\n",
       "      <td>no lenses</td>\n",
       "    </tr>\n",
       "    <tr>\n",
       "      <th>17</th>\n",
       "      <td>presbyopic</td>\n",
       "      <td>myope</td>\n",
       "      <td>no</td>\n",
       "      <td>normal</td>\n",
       "      <td>no lenses</td>\n",
       "    </tr>\n",
       "    <tr>\n",
       "      <th>18</th>\n",
       "      <td>presbyopic</td>\n",
       "      <td>myope</td>\n",
       "      <td>yes</td>\n",
       "      <td>reduced</td>\n",
       "      <td>no lenses</td>\n",
       "    </tr>\n",
       "    <tr>\n",
       "      <th>19</th>\n",
       "      <td>presbyopic</td>\n",
       "      <td>myope</td>\n",
       "      <td>yes</td>\n",
       "      <td>normal</td>\n",
       "      <td>hard</td>\n",
       "    </tr>\n",
       "    <tr>\n",
       "      <th>20</th>\n",
       "      <td>presbyopic</td>\n",
       "      <td>hyper</td>\n",
       "      <td>no</td>\n",
       "      <td>reduced</td>\n",
       "      <td>no lenses</td>\n",
       "    </tr>\n",
       "    <tr>\n",
       "      <th>21</th>\n",
       "      <td>presbyopic</td>\n",
       "      <td>hyper</td>\n",
       "      <td>no</td>\n",
       "      <td>normal</td>\n",
       "      <td>soft</td>\n",
       "    </tr>\n",
       "    <tr>\n",
       "      <th>22</th>\n",
       "      <td>presbyopic</td>\n",
       "      <td>hyper</td>\n",
       "      <td>yes</td>\n",
       "      <td>reduced</td>\n",
       "      <td>no lenses</td>\n",
       "    </tr>\n",
       "    <tr>\n",
       "      <th>23</th>\n",
       "      <td>presbyopic</td>\n",
       "      <td>hyper</td>\n",
       "      <td>yes</td>\n",
       "      <td>normal</td>\n",
       "      <td>no lenses</td>\n",
       "    </tr>\n",
       "  </tbody>\n",
       "</table>\n",
       "</div>"
      ],
      "text/plain": [
       "           age prescript asticmatic tear_rate lenses_type\n",
       "0        young     myope         no   reduced   no lenses\n",
       "1        young     myope         no    normal        soft\n",
       "2        young     myope        yes   reduced   no lenses\n",
       "3        young     myope        yes    normal        hard\n",
       "4        young     hyper         no   reduced   no lenses\n",
       "5        young     hyper         no    normal        soft\n",
       "6        young     hyper        yes   reduced   no lenses\n",
       "7        young     hyper        yes    normal        hard\n",
       "8          pre     myope         no   reduced   no lenses\n",
       "9          pre     myope         no    normal        soft\n",
       "10         pre     myope        yes   reduced   no lenses\n",
       "11         pre     myope        yes    normal        hard\n",
       "12         pre     hyper         no   reduced   no lenses\n",
       "13         pre     hyper         no    normal        soft\n",
       "14         pre     hyper        yes   reduced   no lenses\n",
       "15         pre     hyper        yes    normal   no lenses\n",
       "16  presbyopic     myope         no   reduced   no lenses\n",
       "17  presbyopic     myope         no    normal   no lenses\n",
       "18  presbyopic     myope        yes   reduced   no lenses\n",
       "19  presbyopic     myope        yes    normal        hard\n",
       "20  presbyopic     hyper         no   reduced   no lenses\n",
       "21  presbyopic     hyper         no    normal        soft\n",
       "22  presbyopic     hyper        yes   reduced   no lenses\n",
       "23  presbyopic     hyper        yes    normal   no lenses"
      ]
     },
     "execution_count": 26,
     "metadata": {},
     "output_type": "execute_result"
    }
   ],
   "source": [
    "rawdata_df = pd.DataFrame(\n",
    "    data=rawdata\n",
    ")\n",
    "rawdata_df.iloc[0].to_list()\n",
    "\n",
    "column_list = [\"age\", \"prescript\", \"asticmatic\", \"tear_rate\", \"lenses_type\"]\n",
    "rawdata_df.columns = column_list\n",
    "rawdata_df"
   ]
  },
  {
   "cell_type": "code",
   "execution_count": 30,
   "metadata": {
    "ExecuteTime": {
     "end_time": "2021-11-25T16:45:33.334011Z",
     "start_time": "2021-11-25T16:45:32.591212Z"
    }
   },
   "outputs": [
    {
     "name": "stdout",
     "output_type": "stream",
     "text": [
      "{'tear_rate': {'normal': {'asticmatic': {'no': {'age': {'pre': 'soft',\n",
      "                                                        'presbyopic': {'prescript': {'hyper': 'soft',\n",
      "                                                                                     'myope': 'no '\n",
      "                                                                                              'lenses'}},\n",
      "                                                        'young': 'soft'}},\n",
      "                                         'yes': {'prescript': {'hyper': {'age': {'pre': 'no '\n",
      "                                                                                        'lenses',\n",
      "                                                                                 'presbyopic': 'no '\n",
      "                                                                                               'lenses',\n",
      "                                                                                 'young': 'hard'}},\n",
      "                                                               'myope': 'hard'}}}},\n",
      "               'reduced': 'no lenses'}}\n",
      "\n",
      "\n",
      "Leaf Node Qty: 9\n",
      "Tree Depth: 4\n"
     ]
    }
   ],
   "source": [
    "import pprint as pp\n",
    "\n",
    "lenses_tree = create_decision_tree__id3(rawdata_df)\n",
    "pp.pprint(lenses_tree)\n",
    "\n",
    "print(\"\\n\\nLeaf Node Qty: {0}\".format(get_leaf_qty(lenses_tree)))\n",
    "print(\"Tree Depth: {0}\".format(get_tree_depth(lenses_tree)))"
   ]
  },
  {
   "cell_type": "code",
   "execution_count": 32,
   "metadata": {
    "ExecuteTime": {
     "end_time": "2021-11-25T16:48:09.881123Z",
     "start_time": "2021-11-25T16:48:09.876797Z"
    }
   },
   "outputs": [],
   "source": [
    "save_tree(\n",
    "    input_tree=lenses_tree,\n",
    "    filepath=os.path.join(\n",
    "        output_folder, \"decision_tree__id3__lenses__v{0}.csv\".format(today_str)\n",
    "    )\n",
    ")"
   ]
  }
 ],
 "metadata": {
  "kernelspec": {
   "display_name": "Python 3",
   "language": "python",
   "name": "python3"
  },
  "language_info": {
   "codemirror_mode": {
    "name": "ipython",
    "version": 3
   },
   "file_extension": ".py",
   "mimetype": "text/x-python",
   "name": "python",
   "nbconvert_exporter": "python",
   "pygments_lexer": "ipython3",
   "version": "3.8.3"
  },
  "toc": {
   "base_numbering": 1,
   "nav_menu": {},
   "number_sections": true,
   "sideBar": true,
   "skip_h1_title": true,
   "title_cell": "Table of Contents",
   "title_sidebar": "Contents",
   "toc_cell": true,
   "toc_position": {
    "height": "calc(100% - 180px)",
    "left": "10px",
    "top": "150px",
    "width": "249px"
   },
   "toc_section_display": true,
   "toc_window_display": true
  },
  "varInspector": {
   "cols": {
    "lenName": 16,
    "lenType": 16,
    "lenVar": 40
   },
   "kernels_config": {
    "python": {
     "delete_cmd_postfix": "",
     "delete_cmd_prefix": "del ",
     "library": "var_list.py",
     "varRefreshCmd": "print(var_dic_list())"
    },
    "r": {
     "delete_cmd_postfix": ") ",
     "delete_cmd_prefix": "rm(",
     "library": "var_list.r",
     "varRefreshCmd": "cat(var_dic_list()) "
    }
   },
   "types_to_exclude": [
    "module",
    "function",
    "builtin_function_or_method",
    "instance",
    "_Feature"
   ],
   "window_display": false
  }
 },
 "nbformat": 4,
 "nbformat_minor": 4
}
