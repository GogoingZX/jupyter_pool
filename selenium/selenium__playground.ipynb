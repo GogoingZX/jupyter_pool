{
 "cells": [
  {
   "cell_type": "markdown",
   "id": "923b8e77",
   "metadata": {
    "toc": true
   },
   "source": [
    "<h1>Table of Contents<span class=\"tocSkip\"></span></h1>\n",
    "<div class=\"toc\"><ul class=\"toc-item\"></ul></div>"
   ]
  },
  {
   "cell_type": "code",
   "execution_count": 1,
   "id": "052f3021",
   "metadata": {
    "ExecuteTime": {
     "end_time": "2022-04-14T17:02:38.783039Z",
     "start_time": "2022-04-14T17:02:38.231167Z"
    }
   },
   "outputs": [],
   "source": [
    "import sys\n",
    "import os\n",
    "import time\n",
    "import datetime\n",
    "import pickle\n",
    "import json\n",
    "import re\n",
    "\n",
    "import numpy as np\n",
    "import pandas as pd\n",
    "\n",
    "import warnings\n",
    "warnings.filterwarnings(\"ignore\")\n",
    "from IPython.core.interactiveshell import InteractiveShell\n",
    "InteractiveShell.ast_node_interactivity = \"all\""
   ]
  },
  {
   "cell_type": "markdown",
   "id": "c96e8d23",
   "metadata": {
    "ExecuteTime": {
     "end_time": "2022-04-14T17:02:40.005892Z",
     "start_time": "2022-04-14T17:02:39.995742Z"
    }
   },
   "source": [
    "---"
   ]
  },
  {
   "cell_type": "code",
   "execution_count": 36,
   "id": "70796b84",
   "metadata": {
    "ExecuteTime": {
     "end_time": "2022-04-14T18:28:06.002636Z",
     "start_time": "2022-04-14T18:28:05.999341Z"
    }
   },
   "outputs": [],
   "source": [
    "from selenium import webdriver\n",
    "\n",
    "from selenium.webdriver.common.alert import Alert\n",
    "from selenium.webdriver.common.by import By\n",
    "from selenium.webdriver.common.keys import Keys\n",
    "\n",
    "selenium_env = \"/Users/xuzhu/Desktop/code_env/selenium\""
   ]
  },
  {
   "cell_type": "code",
   "execution_count": 38,
   "id": "0c89d483",
   "metadata": {
    "ExecuteTime": {
     "end_time": "2022-04-14T18:28:44.216434Z",
     "start_time": "2022-04-14T18:28:39.280785Z"
    }
   },
   "outputs": [],
   "source": [
    "webdriver_chrome__path = os.path.join(selenium_env, \"chromedriver\")\n",
    "driver = webdriver.Chrome(webdriver_chrome__path)"
   ]
  },
  {
   "cell_type": "code",
   "execution_count": 34,
   "id": "d5480d2b",
   "metadata": {
    "ExecuteTime": {
     "end_time": "2022-04-14T18:13:58.048680Z",
     "start_time": "2022-04-14T18:13:53.679023Z"
    }
   },
   "outputs": [],
   "source": [
    "driver.get(\"http://www.google.com\")\n",
    "\n",
    "input_search = driver.find_element_by_name(\"q\")\n",
    "input_search.send_keys(\"淘宝\")\n",
    "input_search.send_keys(Keys.ENTER)"
   ]
  },
  {
   "cell_type": "code",
   "execution_count": 41,
   "id": "67b2a95e",
   "metadata": {
    "ExecuteTime": {
     "end_time": "2022-04-14T18:49:44.306944Z",
     "start_time": "2022-04-14T18:49:41.421407Z"
    }
   },
   "outputs": [],
   "source": [
    "target_page = \"https://detail.tmall.com/item.htm?spm=a312a.7700824.w4004-24124507683.3.324a46f4ks1Cyr&id=669220110869&skuId=4816992777647\"\n",
    "driver.get(target_page)\n"
   ]
  },
  {
   "cell_type": "code",
   "execution_count": 43,
   "id": "ab39a0bd",
   "metadata": {
    "ExecuteTime": {
     "end_time": "2022-04-14T18:49:56.753482Z",
     "start_time": "2022-04-14T18:49:56.610734Z"
    }
   },
   "outputs": [],
   "source": [
    "driver.find_element(By.ID, \"J_LinkBuy\").click()"
   ]
  },
  {
   "cell_type": "code",
   "execution_count": 33,
   "id": "27a69690",
   "metadata": {
    "ExecuteTime": {
     "end_time": "2022-04-14T18:13:40.163844Z",
     "start_time": "2022-04-14T18:13:40.138983Z"
    }
   },
   "outputs": [
    {
     "data": {
      "text/plain": [
       "'淘宝 - Google 搜索'"
      ]
     },
     "execution_count": 33,
     "metadata": {},
     "output_type": "execute_result"
    },
    {
     "data": {
      "text/plain": [
       "'chrome'"
      ]
     },
     "execution_count": 33,
     "metadata": {},
     "output_type": "execute_result"
    },
    {
     "data": {
      "text/plain": [
       "'https://www.google.com/search?q=%E6%B7%98%E5%AE%9D&source=hp&ei=UGRYYsShBt3iz7sP7Lqm2Aw&iflsig=AHkkrS4AAAAAYlhyYF1-I1FeI80Q4onbFc16bwU4v5v0&ved=0ahUKEwjEiZ2FlJT3AhVd8XMBHWydCcsQ4dUDCAc&uact=5&oq=%E6%B7%98%E5%AE%9D&gs_lcp=Cgdnd3Mtd2l6EANQAFgIYCRoAHAAeACAAQCIAQCSAQCYAQCgAQE&sclient=gws-wiz'"
      ]
     },
     "execution_count": 33,
     "metadata": {},
     "output_type": "execute_result"
    }
   ],
   "source": [
    "driver.title\n",
    "driver.name\n",
    "driver.current_url"
   ]
  },
  {
   "cell_type": "code",
   "execution_count": null,
   "id": "26044aed",
   "metadata": {},
   "outputs": [],
   "source": []
  }
 ],
 "metadata": {
  "kernelspec": {
   "display_name": "Python 3 (ipykernel)",
   "language": "python",
   "name": "python3"
  },
  "language_info": {
   "codemirror_mode": {
    "name": "ipython",
    "version": 3
   },
   "file_extension": ".py",
   "mimetype": "text/x-python",
   "name": "python",
   "nbconvert_exporter": "python",
   "pygments_lexer": "ipython3",
   "version": "3.9.7"
  },
  "toc": {
   "base_numbering": 1,
   "nav_menu": {},
   "number_sections": true,
   "sideBar": true,
   "skip_h1_title": true,
   "title_cell": "Table of Contents",
   "title_sidebar": "Contents",
   "toc_cell": true,
   "toc_position": {},
   "toc_section_display": true,
   "toc_window_display": false
  },
  "varInspector": {
   "cols": {
    "lenName": 16,
    "lenType": 16,
    "lenVar": 40
   },
   "kernels_config": {
    "python": {
     "delete_cmd_postfix": "",
     "delete_cmd_prefix": "del ",
     "library": "var_list.py",
     "varRefreshCmd": "print(var_dic_list())"
    },
    "r": {
     "delete_cmd_postfix": ") ",
     "delete_cmd_prefix": "rm(",
     "library": "var_list.r",
     "varRefreshCmd": "cat(var_dic_list()) "
    }
   },
   "types_to_exclude": [
    "module",
    "function",
    "builtin_function_or_method",
    "instance",
    "_Feature"
   ],
   "window_display": false
  }
 },
 "nbformat": 4,
 "nbformat_minor": 5
}
