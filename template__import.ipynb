{
 "cells": [
  {
   "cell_type": "markdown",
   "metadata": {
    "toc": true
   },
   "source": [
    "<h1>Table of Contents<span class=\"tocSkip\"></span></h1>\n",
    "<div class=\"toc\"><ul class=\"toc-item\"></ul></div>"
   ]
  },
  {
   "cell_type": "code",
   "execution_count": 1,
   "metadata": {
    "ExecuteTime": {
     "end_time": "2021-11-17T17:06:47.059893Z",
     "start_time": "2021-11-17T17:06:46.855497Z"
    },
    "deletable": false,
    "editable": false
   },
   "outputs": [],
   "source": [
    "import sys\n",
    "import os\n",
    "import time\n",
    "import datetime\n",
    "import pickle\n",
    "import json\n",
    "import re\n",
    "\n",
    "import numpy as np\n",
    "import pandas as pd\n",
    "\n",
    "import warnings\n",
    "warnings.filterwarnings(\"ignore\")\n",
    "from IPython.core.interactiveshell import InteractiveShell\n",
    "InteractiveShell.ast_node_interactivity = \"all\""
   ]
  },
  {
   "cell_type": "markdown",
   "metadata": {},
   "source": [
    "---"
   ]
  },
  {
   "cell_type": "code",
   "execution_count": 2,
   "metadata": {
    "ExecuteTime": {
     "end_time": "2021-11-17T17:06:48.326851Z",
     "start_time": "2021-11-17T17:06:48.321284Z"
    },
    "deletable": false,
    "editable": false
   },
   "outputs": [
    {
     "name": "stdout",
     "output_type": "stream",
     "text": [
      "Python Path: '/opt/anaconda3/bin/python'\n",
      "\r",
      "Python Version: 3.8.3\n"
     ]
    }
   ],
   "source": [
    "# !python -V && which python\n",
    "version_details = sys.version_info\n",
    "python_version = \"{major}.{minor}.{micro}\".format(\n",
    "    major=version_details.major,\n",
    "    minor=version_details.minor,\n",
    "    micro=version_details.micro\n",
    ")\n",
    "\n",
    "python_path = sys.executable\n",
    "\n",
    "print(\"Python Path: '{0}'\\n\\rPython Version: {1}\".format(python_path, python_version))"
   ]
  },
  {
   "cell_type": "code",
   "execution_count": 3,
   "metadata": {
    "ExecuteTime": {
     "end_time": "2021-11-17T17:06:49.530320Z",
     "start_time": "2021-11-17T17:06:49.200930Z"
    },
    "deletable": false,
    "editable": false,
    "run_control": {
     "frozen": true
    }
   },
   "outputs": [
    {
     "name": "stdout",
     "output_type": "stream",
     "text": [
      "Known nbextensions:\r\n",
      "  config dir: /Users/xuzhu/.jupyter/nbconfig\r\n",
      "    notebook section\r\n",
      "      nbextensions_configurator/config_menu/main \u001b[32m enabled \u001b[0m\r\n",
      "      - Validating: problems found:\r\n",
      "        - require? \u001b[31m X\u001b[0m nbextensions_configurator/config_menu/main\r\n",
      "      contrib_nbextensions_help_item/main \u001b[32m enabled \u001b[0m\r\n",
      "      - Validating: \u001b[32mOK\u001b[0m\r\n",
      "      toc2/main \u001b[32m enabled \u001b[0m\r\n",
      "      - Validating: \u001b[32mOK\u001b[0m\r\n",
      "      varInspector/main \u001b[32m enabled \u001b[0m\r\n",
      "      - Validating: \u001b[32mOK\u001b[0m\r\n",
      "      latex_envs/latex_envs \u001b[31mdisabled\u001b[0m\r\n",
      "      codefolding/main \u001b[31mdisabled\u001b[0m\r\n",
      "      collapsible_headings/main \u001b[32m enabled \u001b[0m\r\n",
      "      - Validating: \u001b[32mOK\u001b[0m\r\n",
      "      code_prettify/autopep8 \u001b[32m enabled \u001b[0m\r\n",
      "      - Validating: \u001b[32mOK\u001b[0m\r\n",
      "      execute_time/ExecuteTime \u001b[32m enabled \u001b[0m\r\n",
      "      - Validating: \u001b[32mOK\u001b[0m\r\n",
      "      splitcell/splitcell \u001b[31mdisabled\u001b[0m\r\n",
      "      jupyter-js-widgets/extension \u001b[31mdisabled\u001b[0m\r\n",
      "      limit_output/main \u001b[31mdisabled\u001b[0m\r\n",
      "      scroll_down/main \u001b[32m enabled \u001b[0m\r\n",
      "      - Validating: \u001b[32mOK\u001b[0m\r\n",
      "      export_embedded/main \u001b[32m enabled \u001b[0m\r\n",
      "      - Validating: \u001b[32mOK\u001b[0m\r\n",
      "      freeze/main \u001b[32m enabled \u001b[0m\r\n",
      "      - Validating: \u001b[32mOK\u001b[0m\r\n",
      "      hide_input/main \u001b[31mdisabled\u001b[0m\r\n",
      "      skip-traceback/main \u001b[31mdisabled\u001b[0m\r\n",
      "      hide_input_all/main \u001b[31mdisabled\u001b[0m\r\n",
      "      toggle_all_line_numbers/main \u001b[31mdisabled\u001b[0m\r\n",
      "    tree section\r\n",
      "      nbextensions_configurator/tree_tab/main \u001b[32m enabled \u001b[0m\r\n",
      "      - Validating: problems found:\r\n",
      "        - require? \u001b[31m X\u001b[0m nbextensions_configurator/tree_tab/main\r\n",
      "  config dir: /opt/anaconda3/etc/jupyter/nbconfig\r\n",
      "    notebook section\r\n",
      "      jupyter-js-widgets/extension \u001b[32m enabled \u001b[0m\r\n",
      "      - Validating: \u001b[32mOK\u001b[0m\r\n",
      "      nbextensions_configurator/config_menu/main \u001b[32m enabled \u001b[0m\r\n",
      "      - Validating: problems found:\r\n",
      "        - require? \u001b[31m X\u001b[0m nbextensions_configurator/config_menu/main\r\n",
      "      contrib_nbextensions_help_item/main \u001b[32m enabled \u001b[0m\r\n",
      "      - Validating: \u001b[32mOK\u001b[0m\r\n",
      "    tree section\r\n",
      "      nbextensions_configurator/tree_tab/main \u001b[32m enabled \u001b[0m\r\n",
      "      - Validating: problems found:\r\n",
      "        - require? \u001b[31m X\u001b[0m nbextensions_configurator/tree_tab/main\r\n"
     ]
    }
   ],
   "source": [
    "!jupyter nbextension list"
   ]
  },
  {
   "cell_type": "code",
   "execution_count": 4,
   "metadata": {
    "ExecuteTime": {
     "end_time": "2021-11-17T17:06:53.795740Z",
     "start_time": "2021-11-17T17:06:53.582270Z"
    },
    "deletable": false,
    "editable": false,
    "run_control": {
     "frozen": true
    },
    "scrolled": true
   },
   "outputs": [
    {
     "name": "stdout",
     "output_type": "stream",
     "text": [
      "config:\r\n",
      "    /Users/xuzhu/.jupyter\r\n",
      "    /opt/anaconda3/etc/jupyter\r\n",
      "    /usr/local/etc/jupyter\r\n",
      "    /etc/jupyter\r\n",
      "data:\r\n",
      "    /Users/xuzhu/Library/Jupyter\r\n",
      "    /opt/anaconda3/share/jupyter\r\n",
      "    /usr/local/share/jupyter\r\n",
      "    /usr/share/jupyter\r\n",
      "runtime:\r\n",
      "    /Users/xuzhu/Library/Jupyter/runtime\r\n"
     ]
    }
   ],
   "source": [
    "!jupyter --path"
   ]
  }
 ],
 "metadata": {
  "kernelspec": {
   "display_name": "Python 3",
   "language": "python",
   "name": "python3"
  },
  "language_info": {
   "codemirror_mode": {
    "name": "ipython",
    "version": 3
   },
   "file_extension": ".py",
   "mimetype": "text/x-python",
   "name": "python",
   "nbconvert_exporter": "python",
   "pygments_lexer": "ipython3",
   "version": "3.8.3"
  },
  "toc": {
   "base_numbering": 1,
   "nav_menu": {},
   "number_sections": true,
   "sideBar": true,
   "skip_h1_title": true,
   "title_cell": "Table of Contents",
   "title_sidebar": "Contents",
   "toc_cell": true,
   "toc_position": {},
   "toc_section_display": true,
   "toc_window_display": false
  },
  "varInspector": {
   "cols": {
    "lenName": 16,
    "lenType": 16,
    "lenVar": 40
   },
   "kernels_config": {
    "python": {
     "delete_cmd_postfix": "",
     "delete_cmd_prefix": "del ",
     "library": "var_list.py",
     "varRefreshCmd": "print(var_dic_list())"
    },
    "r": {
     "delete_cmd_postfix": ") ",
     "delete_cmd_prefix": "rm(",
     "library": "var_list.r",
     "varRefreshCmd": "cat(var_dic_list()) "
    }
   },
   "types_to_exclude": [
    "module",
    "function",
    "builtin_function_or_method",
    "instance",
    "_Feature"
   ],
   "window_display": false
  }
 },
 "nbformat": 4,
 "nbformat_minor": 4
}
