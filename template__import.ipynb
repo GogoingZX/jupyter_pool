{
 "cells": [
  {
   "cell_type": "markdown",
   "id": "ec716fd0",
   "metadata": {
    "toc": true
   },
   "source": [
    "<h1>Table of Contents<span class=\"tocSkip\"></span></h1>\n",
    "<div class=\"toc\"><ul class=\"toc-item\"></ul></div>"
   ]
  },
  {
   "cell_type": "code",
   "execution_count": 4,
   "id": "7680c871",
   "metadata": {
    "ExecuteTime": {
     "end_time": "2022-03-31T17:13:17.852841Z",
     "start_time": "2022-03-31T17:13:17.846918Z"
    }
   },
   "outputs": [],
   "source": [
    "import sys\n",
    "import os\n",
    "import time\n",
    "import datetime\n",
    "import pickle\n",
    "import json\n",
    "import re\n",
    "\n",
    "import numpy as np\n",
    "import pandas as pd\n",
    "\n",
    "import warnings\n",
    "warnings.filterwarnings(\"ignore\")\n",
    "from IPython.core.interactiveshell import InteractiveShell\n",
    "InteractiveShell.ast_node_interactivity = \"all\""
   ]
  },
  {
   "cell_type": "markdown",
   "id": "d1517641",
   "metadata": {},
   "source": [
    "---"
   ]
  },
  {
   "cell_type": "code",
   "execution_count": 5,
   "id": "07ab44e2",
   "metadata": {
    "ExecuteTime": {
     "end_time": "2022-03-31T17:13:19.153267Z",
     "start_time": "2022-03-31T17:13:18.637258Z"
    }
   },
   "outputs": [
    {
     "name": "stdout",
     "output_type": "stream",
     "text": [
      "Python Path: '/opt/anaconda3/bin/python'\n",
      "Python Version: 3.9.7\n",
      "\n",
      "================================================================================\n",
      "config:\n",
      "    /Users/xuzhu/.jupyter\n",
      "    /opt/anaconda3/etc/jupyter\n",
      "    /usr/local/etc/jupyter\n",
      "    /etc/jupyter\n",
      "data:\n",
      "    /Users/xuzhu/Library/Jupyter\n",
      "    /opt/anaconda3/share/jupyter\n",
      "    /usr/local/share/jupyter\n",
      "    /usr/share/jupyter\n",
      "runtime:\n",
      "    /Users/xuzhu/Library/Jupyter/runtime\n",
      "\n",
      "================================================================================\n",
      "Known nbextensions:\n",
      "  config dir: /Users/xuzhu/.jupyter/nbconfig\n",
      "    notebook section\n",
      "      nbextensions_configurator/config_menu/main \u001b[32m enabled \u001b[0m\n",
      "      - Validating: problems found:\n",
      "        - require? \u001b[31m X\u001b[0m nbextensions_configurator/config_menu/main\n",
      "      contrib_nbextensions_help_item/main \u001b[32m enabled \u001b[0m\n",
      "      - Validating: \u001b[32mOK\u001b[0m\n",
      "      toc2/main \u001b[32m enabled \u001b[0m\n",
      "      - Validating: \u001b[32mOK\u001b[0m\n",
      "      varInspector/main \u001b[32m enabled \u001b[0m\n",
      "      - Validating: \u001b[32mOK\u001b[0m\n",
      "      code_prettify/autopep8 \u001b[32m enabled \u001b[0m\n",
      "      - Validating: \u001b[32mOK\u001b[0m\n",
      "      exercise/main \u001b[32m enabled \u001b[0m\n",
      "      - Validating: \u001b[32mOK\u001b[0m\n",
      "      execute_time/ExecuteTime \u001b[32m enabled \u001b[0m\n",
      "      - Validating: \u001b[32mOK\u001b[0m\n",
      "      collapsible_headings/main \u001b[32m enabled \u001b[0m\n",
      "      - Validating: \u001b[32mOK\u001b[0m\n",
      "    tree section\n",
      "      nbextensions_configurator/tree_tab/main \u001b[32m enabled \u001b[0m\n",
      "      - Validating: problems found:\n",
      "        - require? \u001b[31m X\u001b[0m nbextensions_configurator/tree_tab/main\n",
      "  config dir: /opt/anaconda3/etc/jupyter/nbconfig\n",
      "    notebook section\n",
      "      jupyter-js-widgets/extension \u001b[32m enabled \u001b[0m\n",
      "      - Validating: \u001b[32mOK\u001b[0m\n",
      "      nbextensions_configurator/config_menu/main \u001b[32m enabled \u001b[0m\n",
      "      - Validating: problems found:\n",
      "        - require? \u001b[31m X\u001b[0m nbextensions_configurator/config_menu/main\n",
      "      contrib_nbextensions_help_item/main \u001b[32m enabled \u001b[0m\n",
      "      - Validating: \u001b[32mOK\u001b[0m\n",
      "    tree section\n",
      "      nbextensions_configurator/tree_tab/main \u001b[32m enabled \u001b[0m\n",
      "      - Validating: problems found:\n",
      "        - require? \u001b[31m X\u001b[0m nbextensions_configurator/tree_tab/main\n"
     ]
    }
   ],
   "source": [
    "# !python -V && which python\n",
    "python_path = sys.executable\n",
    "\n",
    "version_details = sys.version_info\n",
    "python_version = \"{major}.{minor}.{micro}\".format(\n",
    "    major=version_details.major,\n",
    "    minor=version_details.minor,\n",
    "    micro=version_details.micro\n",
    ")\n",
    "\n",
    "print(f\"Python Path: '{python_path}'\\n\\rPython Version: {python_version}\")\n",
    "\n",
    "\n",
    "# ================================================================================\n",
    "print(\"\\n{divider}\".format(divider=\"=\"*80))\n",
    "!jupyter --path\n",
    "\n",
    "print(\"\\n{divider}\".format(divider=\"=\"*80))\n",
    "!jupyter nbextension list"
   ]
  },
  {
   "cell_type": "code",
   "execution_count": null,
   "id": "b65320a0",
   "metadata": {},
   "outputs": [],
   "source": []
  }
 ],
 "metadata": {
  "kernelspec": {
   "display_name": "Python 3 (ipykernel)",
   "language": "python",
   "name": "python3"
  },
  "language_info": {
   "codemirror_mode": {
    "name": "ipython",
    "version": 3
   },
   "file_extension": ".py",
   "mimetype": "text/x-python",
   "name": "python",
   "nbconvert_exporter": "python",
   "pygments_lexer": "ipython3",
   "version": "3.9.7"
  },
  "toc": {
   "base_numbering": 1,
   "nav_menu": {},
   "number_sections": true,
   "sideBar": true,
   "skip_h1_title": true,
   "title_cell": "Table of Contents",
   "title_sidebar": "Contents",
   "toc_cell": true,
   "toc_position": {},
   "toc_section_display": true,
   "toc_window_display": false
  },
  "varInspector": {
   "cols": {
    "lenName": 16,
    "lenType": 16,
    "lenVar": 40
   },
   "kernels_config": {
    "python": {
     "delete_cmd_postfix": "",
     "delete_cmd_prefix": "del ",
     "library": "var_list.py",
     "varRefreshCmd": "print(var_dic_list())"
    },
    "r": {
     "delete_cmd_postfix": ") ",
     "delete_cmd_prefix": "rm(",
     "library": "var_list.r",
     "varRefreshCmd": "cat(var_dic_list()) "
    }
   },
   "types_to_exclude": [
    "module",
    "function",
    "builtin_function_or_method",
    "instance",
    "_Feature"
   ],
   "window_display": false
  }
 },
 "nbformat": 4,
 "nbformat_minor": 5
}
