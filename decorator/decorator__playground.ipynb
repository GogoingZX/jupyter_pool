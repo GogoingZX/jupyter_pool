{
 "cells": [
  {
   "cell_type": "markdown",
   "id": "3a159d46",
   "metadata": {
    "toc": true
   },
   "source": [
    "<h1>Table of Contents<span class=\"tocSkip\"></span></h1>\n",
    "<div class=\"toc\"><ul class=\"toc-item\"><li><span><a href=\"#Example\" data-toc-modified-id=\"Example-1\"><span class=\"toc-item-num\">1&nbsp;&nbsp;</span>Example</a></span></li></ul></div>"
   ]
  },
  {
   "cell_type": "code",
   "execution_count": 1,
   "id": "9f603581",
   "metadata": {
    "ExecuteTime": {
     "end_time": "2022-04-19T16:49:24.984505Z",
     "start_time": "2022-04-19T16:49:24.657911Z"
    }
   },
   "outputs": [],
   "source": [
    "import sys\n",
    "import os\n",
    "import time\n",
    "import datetime\n",
    "import pickle\n",
    "import json\n",
    "import re\n",
    "\n",
    "import numpy as np\n",
    "import pandas as pd\n",
    "\n",
    "import warnings\n",
    "warnings.filterwarnings(\"ignore\")\n",
    "from IPython.core.interactiveshell import InteractiveShell\n",
    "InteractiveShell.ast_node_interactivity = \"all\""
   ]
  },
  {
   "cell_type": "markdown",
   "id": "858aec11",
   "metadata": {},
   "source": [
    "---"
   ]
  },
  {
   "cell_type": "code",
   "execution_count": 57,
   "id": "40a7b413",
   "metadata": {
    "ExecuteTime": {
     "end_time": "2022-04-20T19:21:15.997554Z",
     "start_time": "2022-04-20T19:21:15.972410Z"
    }
   },
   "outputs": [
    {
     "name": "stdout",
     "output_type": "stream",
     "text": [
      "Hello world, test\n",
      "Hello world, test\n"
     ]
    },
    {
     "data": {
      "text/plain": [
       "True"
      ]
     },
     "execution_count": 57,
     "metadata": {},
     "output_type": "execute_result"
    },
    {
     "name": "stdout",
     "output_type": "stream",
     "text": [
      "<function hello_world at 0x7fbd18a4bdc0>\n"
     ]
    }
   ],
   "source": [
    "def hello_world(text):\n",
    "    print(f\"Hello world, {text}\")\n",
    "\n",
    "h = hello_world\n",
    "hello_world(\"test\")\n",
    "h(\"test\")\n",
    "\n",
    "id(hello_world) == id(h)\n",
    "print(h)"
   ]
  },
  {
   "cell_type": "code",
   "execution_count": 75,
   "id": "32d5f715",
   "metadata": {
    "ExecuteTime": {
     "end_time": "2022-04-20T19:28:04.548973Z",
     "start_time": "2022-04-20T19:28:04.529257Z"
    }
   },
   "outputs": [
    {
     "name": "stdout",
     "output_type": "stream",
     "text": [
      "Hi Son\n"
     ]
    },
    {
     "ename": "NameError",
     "evalue": "name 'son' is not defined",
     "output_type": "error",
     "traceback": [
      "\u001b[0;31m---------------------------------------------------------------------------\u001b[0m",
      "\u001b[0;31mNameError\u001b[0m                                 Traceback (most recent call last)",
      "\u001b[0;32m/var/folders/ch/s8sdd4sd38q5w7hv1c83t26w0000gn/T/ipykernel_14413/491215116.py\u001b[0m in \u001b[0;36m<module>\u001b[0;34m\u001b[0m\n\u001b[1;32m      7\u001b[0m \u001b[0mparent\u001b[0m\u001b[0;34m(\u001b[0m\u001b[0;34m)\u001b[0m\u001b[0;34m\u001b[0m\u001b[0;34m\u001b[0m\u001b[0m\n\u001b[1;32m      8\u001b[0m \u001b[0;34m\u001b[0m\u001b[0m\n\u001b[0;32m----> 9\u001b[0;31m \u001b[0mson\u001b[0m\u001b[0;34m(\u001b[0m\u001b[0;34m)\u001b[0m\u001b[0;34m\u001b[0m\u001b[0;34m\u001b[0m\u001b[0m\n\u001b[0m",
      "\u001b[0;31mNameError\u001b[0m: name 'son' is not defined"
     ]
    }
   ],
   "source": [
    "def parent():\n",
    "    def son():\n",
    "        return \"Son\"\n",
    "    \n",
    "    print(\"Hi {0}\".format(son()))\n",
    "\n",
    "parent()\n",
    "\n",
    "son()"
   ]
  },
  {
   "cell_type": "code",
   "execution_count": 60,
   "id": "d3bd674c",
   "metadata": {
    "ExecuteTime": {
     "end_time": "2022-04-20T19:22:32.108733Z",
     "start_time": "2022-04-20T19:22:32.095109Z"
    }
   },
   "outputs": [
    {
     "name": "stdout",
     "output_type": "stream",
     "text": [
      "Hello, Alan\n"
     ]
    }
   ],
   "source": [
    "def say_hi(func):\n",
    "    msg = func\n",
    "    print(f\"Hello, {msg}\")\n",
    "\n",
    "def get_msg(someone):\n",
    "    return someone\n",
    "\n",
    "say_hi(get_msg(\"Alan\"))"
   ]
  },
  {
   "cell_type": "code",
   "execution_count": null,
   "id": "574ed0a1",
   "metadata": {},
   "outputs": [],
   "source": []
  },
  {
   "cell_type": "markdown",
   "id": "21cb5d7e",
   "metadata": {},
   "source": [
    "## Example"
   ]
  },
  {
   "cell_type": "code",
   "execution_count": 69,
   "id": "39c46359",
   "metadata": {
    "ExecuteTime": {
     "end_time": "2022-04-20T19:24:02.512151Z",
     "start_time": "2022-04-20T19:24:02.498710Z"
    }
   },
   "outputs": [],
   "source": [
    "def calculate_run_time(func):\n",
    "    from functools import wraps\n",
    "    \n",
    "    @wraps(func)\n",
    "    def wrapped(*arg):\n",
    "        time_format = \"%Y-%m-%d %H:%M:%S\"\n",
    "        start_time = datetime.datetime.now()\n",
    "        func(*arg)\n",
    "        end_time = datetime.datetime.now()\n",
    "        run_time = str(end_time - start_time).split(\".\")[0]\n",
    "        \n",
    "        msg = \"\"\"\n",
    "        \\r{divider}\n",
    "        \\r* Function [{func_name}]\n",
    "        \\r* START TIME: {start_time}\n",
    "        \\r* END TIME: {end_time}\n",
    "        \\r* RUN TIME: {run_time}\n",
    "        \\r{divider}\n",
    "        \"\"\".format(\n",
    "            divider = \"=\"*80,\n",
    "            func_name = func.__name__,\n",
    "            start_time = start_time,\n",
    "            end_time = end_time,\n",
    "            #start_time = start_time.strftime(time_format),\n",
    "            #end_time = end_time.strftime(time_format),\n",
    "            run_time = run_time\n",
    "        )\n",
    "        \n",
    "        print(msg)\n",
    "    \n",
    "    return wrapped"
   ]
  },
  {
   "cell_type": "code",
   "execution_count": 70,
   "id": "17125dff",
   "metadata": {
    "ExecuteTime": {
     "end_time": "2022-04-20T19:24:03.055860Z",
     "start_time": "2022-04-20T19:24:03.042811Z"
    }
   },
   "outputs": [],
   "source": [
    "@calculate_run_time\n",
    "def test_func(a, b):\n",
    "    print(a, b)"
   ]
  },
  {
   "cell_type": "code",
   "execution_count": 71,
   "id": "68269a20",
   "metadata": {
    "ExecuteTime": {
     "end_time": "2022-04-20T19:24:03.574708Z",
     "start_time": "2022-04-20T19:24:03.565594Z"
    }
   },
   "outputs": [
    {
     "name": "stdout",
     "output_type": "stream",
     "text": [
      "0 1\n",
      "\n",
      "        \r",
      "================================================================================\n",
      "        \r",
      "* Function [test_func]\n",
      "        \r",
      "* START TIME: 2022-04-21 03:24:03.567862\n",
      "        \r",
      "* END TIME: 2022-04-21 03:24:03.567991\n",
      "        \r",
      "* RUN TIME: 0:00:00\n",
      "        \r",
      "================================================================================\n",
      "        \n"
     ]
    }
   ],
   "source": [
    "test_func(0, 1)"
   ]
  },
  {
   "cell_type": "code",
   "execution_count": null,
   "id": "6e8bdbc5",
   "metadata": {},
   "outputs": [],
   "source": []
  }
 ],
 "metadata": {
  "kernelspec": {
   "display_name": "Python 3 (ipykernel)",
   "language": "python",
   "name": "python3"
  },
  "language_info": {
   "codemirror_mode": {
    "name": "ipython",
    "version": 3
   },
   "file_extension": ".py",
   "mimetype": "text/x-python",
   "name": "python",
   "nbconvert_exporter": "python",
   "pygments_lexer": "ipython3",
   "version": "3.9.7"
  },
  "toc": {
   "base_numbering": 1,
   "nav_menu": {},
   "number_sections": true,
   "sideBar": true,
   "skip_h1_title": true,
   "title_cell": "Table of Contents",
   "title_sidebar": "Contents",
   "toc_cell": true,
   "toc_position": {},
   "toc_section_display": true,
   "toc_window_display": false
  },
  "varInspector": {
   "cols": {
    "lenName": 16,
    "lenType": 16,
    "lenVar": 40
   },
   "kernels_config": {
    "python": {
     "delete_cmd_postfix": "",
     "delete_cmd_prefix": "del ",
     "library": "var_list.py",
     "varRefreshCmd": "print(var_dic_list())"
    },
    "r": {
     "delete_cmd_postfix": ") ",
     "delete_cmd_prefix": "rm(",
     "library": "var_list.r",
     "varRefreshCmd": "cat(var_dic_list()) "
    }
   },
   "types_to_exclude": [
    "module",
    "function",
    "builtin_function_or_method",
    "instance",
    "_Feature"
   ],
   "window_display": false
  }
 },
 "nbformat": 4,
 "nbformat_minor": 5
}
